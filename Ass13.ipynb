{
  "nbformat": 4,
  "nbformat_minor": 0,
  "metadata": {
    "colab": {
      "provenance": [],
      "authorship_tag": "ABX9TyNO5jrgC6rDSCsoFUumHQzH",
      "include_colab_link": true
    },
    "kernelspec": {
      "name": "python3",
      "display_name": "Python 3"
    },
    "language_info": {
      "name": "python"
    }
  },
  "cells": [
    {
      "cell_type": "markdown",
      "metadata": {
        "id": "view-in-github",
        "colab_type": "text"
      },
      "source": [
        "<a href=\"https://colab.research.google.com/github/adenikeadewumi/EEE_254/blob/main/Ass13.ipynb\" target=\"_parent\"><img src=\"https://colab.research.google.com/assets/colab-badge.svg\" alt=\"Open In Colab\"/></a>"
      ]
    },
    {
      "cell_type": "code",
      "source": [
        "def derivative_poly(f):\n",
        "  first_func= f.split(\"+\")\n",
        "  for i in first_func:\n",
        "    if \"-\" in i:\n",
        "      second_func= i.split(\"-\")\n",
        "    else:\n",
        "      second_func= first_func\n",
        "\n",
        "  return second_func\n",
        "\n",
        "f= \"x^2+2x+1\"\n",
        "second_func= derivative_poly(f)\n",
        "print(second_func)\n",
        "\n",
        "\n",
        ""
      ],
      "metadata": {
        "colab": {
          "base_uri": "https://localhost:8080/"
        },
        "id": "1OmzCGuaZXkr",
        "outputId": "280c7381-5c19-4a42-8d81-7711ad15f8b8"
      },
      "execution_count": 1,
      "outputs": [
        {
          "output_type": "stream",
          "name": "stdout",
          "text": [
            "['x^2', '2x', '1']\n"
          ]
        }
      ]
    },
    {
      "cell_type": "code",
      "execution_count": null,
      "metadata": {
        "id": "oX58m9ix2Pss"
      },
      "outputs": [],
      "source": [
        "def newton_raphson(x, f)"
      ]
    },
    {
      "cell_type": "code",
      "source": [
        "# functions are defined to compute cos(x), sin(x) and exp(x) using taylor approximations without any libraries\n",
        "\n",
        "def sin(x):\n",
        "    term = x  # The first term of the Taylor series for sin(x) is x\n",
        "    result = x  # Initialize result with the first term\n",
        "    for i in range(1, 6):  # Limit the series to 5 additional terms (accuracy vs. speed tradeoff)\n",
        "        term *= -x**2 / ((2*i)*(2*i+1))  # Term is updated using the relation for next term in sin(x)\n",
        "        result += term  # Update the result\n",
        "    return result\n",
        "\n",
        "def cos(x):\n",
        "    term = 1  # The first term of the Taylor series for cos(x) is 1\n",
        "    result = 1  # Initialize result with the first term\n",
        "    for i in range(1, 6):  # Limit to 5 additional terms for higher accuracy\n",
        "        term *= -x**2 / ((2*i-1)*(2*i))  # Term is updated using the relation for next term in cos(x)\n",
        "        result += term\n",
        "    return result\n",
        "\n",
        "def exp(x):\n",
        "    term = 1  # The first term of the Taylor series for exp(x) is 1\n",
        "    result = 1  # Initialize result with the first term\n",
        "    for i in range(1, 15):  # Use 14 more terms for good accuracy\n",
        "        term *= x / i  # Compute next term using previous term to avoid recomputation\n",
        "        result += term\n",
        "    return result\n",
        "\n",
        "# Define the function: f(x) = 4x + sin(x) - exp(x)\n",
        "def fval(x):\n",
        "    y = 4 * x + sin(x) - exp(x)  # Compute the function value using Taylor-based sin and exp\n",
        "    return y\n",
        "\n",
        "# Define the derivative of the function: f'(x) = 4 + cos(x) - exp(x)\n",
        "def dfval(x):\n",
        "    dy = 4 + cos(x) - exp(x)  # Compute the derivative using Taylor-based cos and exp\n",
        "    return dy\n",
        "\n",
        "# Main Newton-Raphson Loop for root finding\n",
        "\n",
        "N = 100  # Maximum number of iterations allowed to prevent infinite loops\n",
        "TOL = 0.000001  # Tolerance threshold for stopping condition (acceptable error)\n",
        "\n",
        "# Take initial guess from the user\n",
        "x0 = float(input(\"Enter the initial approximation: \"))\n",
        "\n",
        "# Header for table output\n",
        "print(\"iter.\\txk\\t\\t\\tf(xk)\\t\\t\\tError\")\n",
        "\n",
        "# Initialize variables for the iteration\n",
        "xk = x0  # Start with the initial guess\n",
        "fxk = fval(xk)  # Compute f(xk) at initial guess\n",
        "\n",
        "# Start the Newton-Raphson loop\n",
        "for k in range(1, N+1):\n",
        "    xp = xk  # Save current value as previous\n",
        "    fxp = fxk  # f(xp): value of function at previous point\n",
        "    dfxp = dfval(xp)  # Derivative at previous point\n",
        "\n",
        "    # If derivative is zero, we can't divide by it — stop the method\n",
        "    if dfxp == 0:\n",
        "        print(\"Zero derivative. No solution found.\")\n",
        "        break\n",
        "\n",
        "    # Newton-Raphson formula: xk+1 = xk - f(xk)/f'(xk)\n",
        "    xk = xp - (fxp / dfxp)\n",
        "\n",
        "    # Update function value at new xk\n",
        "    fxk = fval(xk)\n",
        "\n",
        "    # Compute relative error to check convergence\n",
        "    err = abs(xk - xp) / abs(xk)\n",
        "\n",
        "    # Print the current iteration number, xk value, f(xk), and error\n",
        "    print(f\"{k}\\t{xk:.16f}\\t{fxk:.16f}\\t{err:.12f}\")\n",
        "\n",
        "    # If error is below the tolerance, we can stop\n",
        "    if err < TOL:\n",
        "        break\n",
        "\n",
        "# After loop: check if we exited due to convergence or hitting max iterations\n",
        "if err < TOL:\n",
        "    print(f\"Required accuracy achieved; Solution is {xk:.4f} convergent.\") #Limit the number of d.p to 4\n",
        "else:\n",
        "    print(\"The number of iterations exceeded the maximum limit.\") # When N iterations is exceeded the loop breaks since we used a for loop and this result is printed out\n",
        "\n"
      ],
      "metadata": {
        "colab": {
          "base_uri": "https://localhost:8080/"
        },
        "id": "h72TyimnZISL",
        "outputId": "796adf17-be51-4c32-9904-c27074b586e2"
      },
      "execution_count": 6,
      "outputs": [
        {
          "output_type": "stream",
          "name": "stdout",
          "text": [
            "Enter the initial approximation: 0.2\n",
            "iter.\txk\t\t\tf(xk)\t\t\tError\n",
            "1\t0.2592586722437996\t-0.0025702341041163\t0.228569681897\n",
            "2\t0.2599588918784775\t-0.0000003806897748\t0.002693578318\n",
            "3\t0.2599589956221234\t-0.0000000000000082\t0.000000399077\n",
            "Required accuracy achieved; Solution is 0.2600 convergent.\n"
          ]
        }
      ]
    },
    {
      "cell_type": "code",
      "source": [
        "1"
      ],
      "metadata": {
        "id": "tQ48-to5eKBb"
      },
      "execution_count": null,
      "outputs": []
    }
  ]
}