{
  "nbformat": 4,
  "nbformat_minor": 0,
  "metadata": {
    "colab": {
      "provenance": [],
      "authorship_tag": "ABX9TyPHlmkoZUfzwT34eQAqGR0O",
      "include_colab_link": true
    },
    "kernelspec": {
      "name": "python3",
      "display_name": "Python 3"
    },
    "language_info": {
      "name": "python"
    }
  },
  "cells": [
    {
      "cell_type": "markdown",
      "metadata": {
        "id": "view-in-github",
        "colab_type": "text"
      },
      "source": [
        "<a href=\"https://colab.research.google.com/github/adenikeadewumi/EEE_254/blob/main/Ass14.ipynb\" target=\"_parent\"><img src=\"https://colab.research.google.com/assets/colab-badge.svg\" alt=\"Open In Colab\"/></a>"
      ]
    },
    {
      "cell_type": "markdown",
      "source": [
        "Comparison between steps taken for convergence of bisection and newton-raphson's method"
      ],
      "metadata": {
        "id": "OWZ0dS9Icdjc"
      }
    },
    {
      "cell_type": "code",
      "execution_count": 7,
      "metadata": {
        "id": "Oxmh2JR9ccGa"
      },
      "outputs": [],
      "source": [
        "# Using the concept of modular programming define the functions; bisection_method(), newton_method(), and compare()\n",
        "\n",
        "def bisection_method(cube_num):\n",
        "  # Initialize counter and low to zero\n",
        "  steps, low= 0, 0\n",
        "  high= cube_num\n",
        "  is_negative= cube_num < 0\n",
        "  #Set guess to the avg of high and low\n",
        "  guess= (high+low)/2\n",
        "  # define an epsion close to zero to check how close the guess**3 is to the actual cube number\n",
        "  epsilon= 0.001\n",
        "  # Use while loop to iterate through steps until guess**3 converges to cube_num\n",
        "  while abs(guess**3 -cube_num) >= epsilon:\n",
        "    #Use if-else to set a condition to check how to update high and low.\n",
        "    # The nested if else is to take care of cases where our guess will be negative because cube_num is negative. Therefore the high is set to guess when guess**3 < cube number and low if it is > than the cube number\n",
        "    if guess**3 < cube_num:\n",
        "      if is_negative:\n",
        "        high= guess\n",
        "      else:\n",
        "        low = guess\n",
        "    else:\n",
        "      if is_negative:\n",
        "        low= guess\n",
        "      else:\n",
        "        high= guess\n",
        "    # Calculate new guess\n",
        "    guess= (high+low)/2\n",
        "    #Increment counter\n",
        "    steps+= 1\n",
        "  return guess, steps\n",
        "\n",
        "\n",
        "def newton_method(cube_num, x0):\n",
        "  \"\"\"Assumes cube_num is an integer\n",
        "  Returns cube root of cube_num and number of steps taken\"\"\"\n",
        "  epsilon= 0.001\n",
        "  steps= 0\n",
        "  xn= x0- (x0 **3)/(3*x0**2) #The initial computation of newrton-raphson method\n",
        "  while abs(xn**3- cube_num)>= epsilon:\n",
        "    xn= xn- (xn **3- cube_num)/(3*xn**2)\n",
        "    steps+= 1\n",
        "  return xn, steps\n",
        "\n",
        "def compare(cube_num, x0):\n",
        "  bisection_root, bisection_steps= bisection_method(cube_num)\n",
        "  newton_root, newton_steps= newton_method(cube_num, x0)\n",
        "  print(f\"For Bisection \\n Number of steps taken: {bisection_steps} \\n Root: {bisection_root}\")\n",
        "  print(f\"For Newton-Raphson \\n Number of steps taken: {newton_steps} \\n Root: {newton_root}\")\n",
        "\n",
        "  if newton_steps< bisection_steps:\n",
        "    print(\"Newton-Raphson method is faster\")\n",
        "  else:\n",
        "    print(\"Bisection method is faster\")\n",
        "\n"
      ]
    },
    {
      "cell_type": "code",
      "source": [
        "compare(125, 4)"
      ],
      "metadata": {
        "colab": {
          "base_uri": "https://localhost:8080/"
        },
        "id": "C9Lak7c-eQd2",
        "outputId": "282ca275-09ae-4df6-ceae-6f382c7cecd2"
      },
      "execution_count": 10,
      "outputs": [
        {
          "output_type": "stream",
          "name": "stdout",
          "text": [
            "For Bisection \n",
            " Number of steps taken: 19 \n",
            " Root: 4.999995231628418\n",
            "For Newton-Raphson \n",
            " Number of steps taken: 5 \n",
            " Root: 5.000000978474289\n",
            "Newton-Raphson method is faster\n"
          ]
        }
      ]
    },
    {
      "cell_type": "markdown",
      "source": [
        "Remark: Note that for newton's method, the number of steps taken for convergence depends also on the starting point. i.e x0"
      ],
      "metadata": {
        "id": "9JviwFf6id29"
      }
    },
    {
      "cell_type": "code",
      "source": [
        "compare(125, 1) #Here, let's use a lesser initial guess for newton's method and see how it affects our output"
      ],
      "metadata": {
        "colab": {
          "base_uri": "https://localhost:8080/"
        },
        "id": "1_PO8xF5gtND",
        "outputId": "6c62a095-2cb1-4a0b-d87d-239ab0067fd9"
      },
      "execution_count": 11,
      "outputs": [
        {
          "output_type": "stream",
          "name": "stdout",
          "text": [
            "For Bisection \n",
            " Number of steps taken: 19 \n",
            " Root: 4.999995231628418\n",
            "For Newton-Raphson \n",
            " Number of steps taken: 12 \n",
            " Root: 5.000000000185342\n",
            "Newton-Raphson method is faster\n"
          ]
        }
      ]
    },
    {
      "cell_type": "markdown",
      "source": [
        "It can be seen that it took 12 steps this time"
      ],
      "metadata": {
        "id": "9plnxjJumt5V"
      }
    },
    {
      "cell_type": "code",
      "source": [
        "#Now let's use a larger number\n",
        "compare(125, 200)"
      ],
      "metadata": {
        "colab": {
          "base_uri": "https://localhost:8080/"
        },
        "id": "vVukeeKBmsaM",
        "outputId": "a7e841cc-52f3-474d-f258-d00b147c39ef"
      },
      "execution_count": 16,
      "outputs": [
        {
          "output_type": "stream",
          "name": "stdout",
          "text": [
            "For Bisection \n",
            " Number of steps taken: 19 \n",
            " Root: 4.999995231628418\n",
            "For Newton-Raphson \n",
            " Number of steps taken: 11 \n",
            " Root: 5.000008715619786\n",
            "Newton-Raphson method is faster\n"
          ]
        }
      ]
    },
    {
      "cell_type": "markdown",
      "source": [
        "Remark- The closer the initial guess is to the solution the smaller the steps taken"
      ],
      "metadata": {
        "id": "cPrsPHUHnaXE"
      }
    },
    {
      "cell_type": "code",
      "source": [],
      "metadata": {
        "id": "a9QVeUTvm8UR"
      },
      "execution_count": null,
      "outputs": []
    }
  ]
}