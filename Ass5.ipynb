{
  "cells": [
    {
      "cell_type": "markdown",
      "metadata": {
        "id": "view-in-github",
        "colab_type": "text"
      },
      "source": [
        "<a href=\"https://colab.research.google.com/github/adenikeadewumi/EEE_254/blob/main/Ass5.ipynb\" target=\"_parent\"><img src=\"https://colab.research.google.com/assets/colab-badge.svg\" alt=\"Open In Colab\"/></a>"
      ]
    },
    {
      "cell_type": "markdown",
      "metadata": {
        "id": "XTj1aMeXqZSh"
      },
      "source": [
        "Bisecton method of getting the cube root of a number"
      ]
    },
    {
      "cell_type": "code",
      "execution_count": 37,
      "metadata": {
        "id": "kZNrEAUKrLNN"
      },
      "outputs": [],
      "source": [
        "#Importations\n",
        "import time"
      ]
    },
    {
      "cell_type": "code",
      "execution_count": 48,
      "metadata": {
        "colab": {
          "base_uri": "https://localhost:8080/"
        },
        "id": "QlzN51qEqB3W",
        "outputId": "84a14940-ee65-4ed1-9e0b-06ce04f8b24e"
      },
      "outputs": [
        {
          "output_type": "stream",
          "name": "stdout",
          "text": [
            "Enter the cube number: 7838830\n",
            "The cube root of 7838830 is 198.6477949862047\n",
            "Number of steps taken: 46\n",
            "Total time taken: 3.6716461181640625e-05\n"
          ]
        }
      ],
      "source": [
        "#Take cube number form user\n",
        "cube_num= int(input(\"Enter the cube number: \"))\n",
        "\n",
        "\n",
        "def cube_root(cube_num):\n",
        "  start_time= time.time()\n",
        "  # Find the number of digits in the cube number\n",
        "  no_of_digits= len(str(cube_num))\n",
        "  # Initialize counter and low to zero\n",
        "  counter, low= 0, 0\n",
        "  #abs_cube= abs(cube_num)\n",
        "  high= cube_num\n",
        "  is_negative= cube_num < 0\n",
        "  #Set guess to the avg of high and low\n",
        "  guess= (high+low)/2\n",
        "  # define an epsion close to zero to check how close the guess**3 is to the actual cube number\n",
        "  epsilon= 0.001\n",
        "  # Use while loop to iterate through steps until guess**3 converges to cube_num\n",
        "  while abs(guess**3 -cube_num) >= epsilon:\n",
        "    #Use if-else to set a condition to check how to update high and low.\n",
        "    # The nested if else is to take care of cases where our guess will be negative because cube_num is negative. Therefore the high is set to guess when guess**3 < cube number and low if it is > than the cube number\n",
        "    if guess**3 < cube_num:\n",
        "      if is_negative:\n",
        "        high= guess\n",
        "      else:\n",
        "        low = guess\n",
        "    else:\n",
        "      if is_negative:\n",
        "        low= guess\n",
        "      else:\n",
        "        high= guess\n",
        "    # Calculate new guess\n",
        "    guess= (high+low)/2\n",
        "    #Increment counter\n",
        "    counter+= 1\n",
        "    #Get time taken\n",
        "    end_time= time.time()\n",
        "    total_time= end_time- start_time\n",
        "  return guess, counter, no_of_digits, total_time\n",
        "\n",
        "ans, steps, num_digit, total_time= cube_root(cube_num)\n",
        "print(f\"The cube root of {cube_num} is {ans}\")\n",
        "print(f\"Number of steps taken: {steps}\")\n",
        "print(f\"Total time taken: {total_time}\")\n",
        "\n"
      ]
    },
    {
      "cell_type": "markdown",
      "source": [
        "Plot of program's performance"
      ],
      "metadata": {
        "id": "OWgaUc95b_jX"
      }
    },
    {
      "cell_type": "code",
      "source": [
        "#Define a function to get the number of points to be plotted to evaluate our program's performance\n",
        "def get_points_graph(num_of_points):\n",
        "  x= []\n",
        "  y= []\n",
        "  lst_total_time= []\n",
        "  for i in range(num_of_points):\n",
        "    cube_num= int(input(\"Enter the cube number: \"))\n",
        "    guess, counter, no_of_digits, total_time= cube_root(cube_num)\n",
        "    x.append(no_of_digits)\n",
        "    y.append(counter)\n",
        "    lst_total_time.append(total_time)\n",
        "  return x, y, lst_total_time\n",
        "\n",
        "\n"
      ],
      "metadata": {
        "id": "U3SkixCOjcE5"
      },
      "execution_count": 49,
      "outputs": []
    },
    {
      "cell_type": "code",
      "source": [
        "#Import visualization graphs\n",
        "import matplotlib.pyplot as plt\n",
        "import numpy as np\n",
        "\n",
        "#Get the points\n",
        "x,y, total_time = get_points_graph(4)\n",
        "# Create a new figure\n",
        "fig = plt.figure(figsize=(8,5))\n",
        "#Convert points to arrays\n",
        "x = np.array(x)\n",
        "y = np.array(y)\n",
        "#Label the grapgh\n",
        "plt.xlabel(\"Number of digits\")\n",
        "plt.ylabel(\"number of steps\")\n",
        "plt.title(\"Performance of program\")\n",
        "# Now we plot the graph\n",
        "plt.scatter(x, y)\n",
        "#This must be added so the plot will show\n",
        "plt.show()"
      ],
      "metadata": {
        "colab": {
          "base_uri": "https://localhost:8080/",
          "height": 556
        },
        "collapsed": true,
        "id": "QOwv6P29b_CI",
        "outputId": "e17f020c-b41e-4876-ca09-6049d8ed6c64"
      },
      "execution_count": 50,
      "outputs": [
        {
          "name": "stdout",
          "output_type": "stream",
          "text": [
            "Enter the cube number: 83837\n",
            "Enter the cube number: 73838368\n",
            "Enter the cube number: 6383738\n",
            "Enter the cube number: 839377897\n"
          ]
        },
        {
          "output_type": "display_data",
          "data": {
            "text/plain": [
              "<Figure size 800x500 with 1 Axes>"
            ],
            "image/png": "[encoded data removed]"
          },
          "metadata": {}
        }
      ]
    },
    {
      "cell_type": "markdown",
      "source": [
        "Graph of time taken1415"
      ],
      "metadata": {
        "id": "vir06squmR88"
      }
    },
    {
      "cell_type": "code",
      "source": [
        "# Create a new figure\n",
        "fig = plt.figure(figsize=(8,5))\n",
        "#The x remains the same but now our y axis is the time taken\n",
        "x = np.array(x)\n",
        "total_time= np.array(total_time)\n",
        "plt.xlabel(\"Number of digits\")\n",
        "plt.ylabel(\"Time taken\")\n",
        "plt.title(\"Performance of program based on time\")\n",
        "plt.scatter(x, total_time)\n",
        "plt.show()"
      ],
      "metadata": {
        "colab": {
          "base_uri": "https://localhost:8080/",
          "height": 487
        },
        "id": "L985dKfBmRRR",
        "outputId": "a691accd-5123-4b8e-bd2d-3a11dd710ff2"
      },
      "execution_count": 51,
      "outputs": [
        {
          "output_type": "display_data",
          "data": {
            "text/plain": [
              "<Figure size 800x500 with 1 Axes>"
            ],
            "image/png": "[encoded data removed]"
          },
          "metadata": {}
        }
      ]
    },
    {
      "cell_type": "markdown",
      "source": [
        "Test for primality using bisection method"
      ],
      "metadata": {
        "id": "DeIfI8XCoc6H"
      }
    },
    {
      "cell_type": "code",
      "source": [
        "#Create a function to check whether a num is prime or not using bisection method\n",
        "def check_ifprime(num):\n",
        "  #This function uses the bisection method to check for prime numbers\n",
        "  smallest_divisor= 0\n",
        "  primality= None\n",
        "  # This check whether 2 is a divisor therefore we can jump and\n",
        "  if num % 2 == 0:\n",
        "    smallest_divisor= 2\n",
        "  else:\n",
        "    #Create a loop through the range of 3 while incrementing by two(since we already took care of all even numbers) such that we have 3,5, 7....\n",
        "    for i in range(3, num, 2):\n",
        "      if num% i ==0:\n",
        "        smallest_divisor= i\n",
        "        break\n",
        "      else:\n",
        "        break\n",
        "  # if there is a divisor then the number is not prime\n",
        "  if smallest_divisor!= 0:\n",
        "    primality= False\n",
        "  else:\n",
        "    primality= True\n",
        "    return primality\n",
        "\n",
        "# Define a function that gets the prime numbers in a range of values\n",
        "def get_prime_number(start_num, end_num):\n",
        "  #define an empty list to store prime numbers in\n",
        "  lst_prime_num= []\n",
        "  #Loop through the given range and append the prime numbers to the list\n",
        "  for i in range(start_num, end_num):\n",
        "    primality= check_ifprime(i)\n",
        "    if primality:\n",
        "      lst_prime_num.append(i)\n",
        "\n",
        "  return lst_prime_num\n",
        "# Get the input range and get the sum of prime numbers in the range\n",
        "start_num, end_num= int(input(\"Enter start num: \")), int(input(\"Enter end num: \"))\n",
        "lst_prime_num= get_prime_number(start_num, end_num)\n",
        "print(f\"List of prime numbers in range {start_num} to {end_num} is {lst_prime_num}\")\n",
        "print(f\"Sum of prime num in range is {sum(lst_prime_num)}\")"
      ],
      "metadata": {
        "colab": {
          "base_uri": "https://localhost:8080/"
        },
        "id": "iGhoM_JxoZ5c",
        "outputId": "01bbae48-db9c-4c3e-e9b5-c28065324a96"
      },
      "execution_count": 52,
      "outputs": [
        {
          "output_type": "stream",
          "name": "stdout",
          "text": [
            "Enter start num: 3\n",
            "Enter end num: 1000\n",
            "List of prime numbers in range 3 to 1000 is [3, 5, 7, 11, 13, 17, 19, 23, 25, 29, 31, 35, 37, 41, 43, 47, 49, 53, 55, 59, 61, 65, 67, 71, 73, 77, 79, 83, 85, 89, 91, 95, 97, 101, 103, 107, 109, 113, 115, 119, 121, 125, 127, 131, 133, 137, 139, 143, 145, 149, 151, 155, 157, 161, 163, 167, 169, 173, 175, 179, 181, 185, 187, 191, 193, 197, 199, 203, 205, 209, 211, 215, 217, 221, 223, 227, 229, 233, 235, 239, 241, 245, 247, 251, 253, 257, 259, 263, 265, 269, 271, 275, 277, 281, 283, 287, 289, 293, 295, 299, 301, 305, 307, 311, 313, 317, 319, 323, 325, 329, 331, 335, 337, 341, 343, 347, 349, 353, 355, 359, 361, 365, 367, 371, 373, 377, 379, 383, 385, 389, 391, 395, 397, 401, 403, 407, 409, 413, 415, 419, 421, 425, 427, 431, 433, 437, 439, 443, 445, 449, 451, 455, 457, 461, 463, 467, 469, 473, 475, 479, 481, 485, 487, 491, 493, 497, 499, 503, 505, 509, 511, 515, 517, 521, 523, 527, 529, 533, 535, 539, 541, 545, 547, 551, 553, 557, 559, 563, 565, 569, 571, 575, 577, 581, 583, 587, 589, 593, 595, 599, 601, 605, 607, 611, 613, 617, 619, 623, 625, 629, 631, 635, 637, 641, 643, 647, 649, 653, 655, 659, 661, 665, 667, 671, 673, 677, 679, 683, 685, 689, 691, 695, 697, 701, 703, 707, 709, 713, 715, 719, 721, 725, 727, 731, 733, 737, 739, 743, 745, 749, 751, 755, 757, 761, 763, 767, 769, 773, 775, 779, 781, 785, 787, 791, 793, 797, 799, 803, 805, 809, 811, 815, 817, 821, 823, 827, 829, 833, 835, 839, 841, 845, 847, 851, 853, 857, 859, 863, 865, 869, 871, 875, 877, 881, 883, 887, 889, 893, 895, 899, 901, 905, 907, 911, 913, 917, 919, 923, 925, 929, 931, 935, 937, 941, 943, 947, 949, 953, 955, 959, 961, 965, 967, 971, 973, 977, 979, 983, 985, 989, 991, 995, 997]\n",
            "Sum of prime num in range is 166335\n"
          ]
        }
      ]
    },
    {
      "cell_type": "code",
      "source": [],
      "metadata": {
        "id": "Js1jmySWoZ16"
      },
      "execution_count": null,
      "outputs": []
    },
    {
      "cell_type": "code",
      "source": [],
      "metadata": {
        "id": "TeYSTx9VoZz6"
      },
      "execution_count": null,
      "outputs": []
    },
    {
      "cell_type": "code",
      "execution_count": null,
      "metadata": {
        "id": "PhrcSdhhMrlJ"
      },
      "outputs": [],
      "source": []
    }
  ],
  "metadata": {
    "colab": {
      "provenance": [],
      "authorship_tag": "ABX9TyMA9J1KFn7lxIlVfBog+aBX",
      "include_colab_link": true
    },
    "kernelspec": {
      "display_name": "Python 3",
      "name": "python3"
    },
    "language_info": {
      "name": "python"
    }
  },
  "nbformat": 4,
  "nbformat_minor": 0
}