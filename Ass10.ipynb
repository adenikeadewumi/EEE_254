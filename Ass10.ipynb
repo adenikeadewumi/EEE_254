{
  "nbformat": 4,
  "nbformat_minor": 0,
  "metadata": {
    "colab": {
      "provenance": [],
      "authorship_tag": "ABX9TyP6ZFxx5G2veYsH2zfdOSje",
      "include_colab_link": true
    },
    "kernelspec": {
      "name": "python3",
      "display_name": "Python 3"
    },
    "language_info": {
      "name": "python"
    }
  },
  "cells": [
    {
      "cell_type": "markdown",
      "metadata": {
        "id": "view-in-github",
        "colab_type": "text"
      },
      "source": [
        "<a href=\"https://colab.research.google.com/github/adenikeadewumi/EEE_254/blob/main/Ass10.ipynb\" target=\"_parent\"><img src=\"https://colab.research.google.com/assets/colab-badge.svg\" alt=\"Open In Colab\"/></a>"
      ]
    },
    {
      "cell_type": "markdown",
      "source": [
        "Modularization with functions"
      ],
      "metadata": {
        "id": "g3-GG4l1DalX"
      }
    },
    {
      "cell_type": "code",
      "execution_count": 2,
      "metadata": {
        "colab": {
          "base_uri": "https://localhost:8080/"
        },
        "id": "RC38KcjK_khB",
        "outputId": "4a492401-7d09-4a10-892a-36e05b5feb2a"
      },
      "outputs": [
        {
          "output_type": "stream",
          "name": "stdout",
          "text": [
            "Enter nth root: 9\n",
            "Enter num: 7388296\n",
            "The 9th root of 7388296 is 5.796576707716952\n"
          ]
        }
      ],
      "source": [
        "def find_root_bound(x):\n",
        "    \"\"\"Assumes that x is an integer\n",
        "    Returns the low and high values needed for bisection method\"\"\"\n",
        "    low= min(-1, x)\n",
        "    high= max(1, x)\n",
        "    return low, high\n",
        "\n",
        "\n",
        "def bisection_solve(low, high):\n",
        "    \"\"\"Assumes\n",
        "    Returns the new guess \"\"\"\n",
        "    guess= (low+high)/2\n",
        "    return guess\n",
        "\n",
        "def find_roots(x, power, epsilon):\n",
        "    low, high= find_root_bound(x)\n",
        "    guess= bisection_solve(low, high)\n",
        "    while abs(guess**power - x) >=  epsilon:\n",
        "        if power%2== 0 and x<0:\n",
        "            print(\"The root doesn't exist!!\")\n",
        "            guess= None\n",
        "            break\n",
        "        elif guess**power < x:\n",
        "            low= guess\n",
        "        else:\n",
        "            high= guess\n",
        "        guess= bisection_solve(low, high)\n",
        "\n",
        "    return guess\n",
        "\n",
        "\n",
        "n_root= int(input(\"Enter nth root: \"))\n",
        "num= int(input(\"Enter num: \"))\n",
        "answer= find_roots(num, n_root, 0.001)\n",
        "print(f\"The {n_root}th root of {num} is {answer}\")"
      ]
    },
    {
      "cell_type": "markdown",
      "source": [
        "Modularization"
      ],
      "metadata": {
        "id": "swZqsclp_vZc"
      }
    },
    {
      "cell_type": "code",
      "source": [
        "import torch\n",
        "from sklearn.metrics import classification_report\n",
        "import numpy as np\n",
        "\n",
        "# define function to get the available device for training\n",
        "def device_available():\n",
        "    return 'cuda' if torch.cuda.is_available() else 'cpu'\n",
        "\n",
        "\n",
        "#define function to train the model\n",
        "def training(model, train_loader, criterion, optimizer, num_epochs=5, learning_rate=0.001):\n",
        "    device = device_available()\n",
        "    model.to(device)\n",
        "    model.train()\n",
        "\n",
        "    for epoch in range(num_epochs):\n",
        "        running_loss = 0.0\n",
        "        for inputs, targets in train_loader:\n",
        "            inputs, targets = inputs.to(device), targets.to(device)\n",
        "\n",
        "            optimizer.zero_grad()\n",
        "            outputs = model(inputs)\n",
        "            loss = criterion(outputs, targets)\n",
        "\n",
        "            loss.backward()\n",
        "            optimizer.step()\n",
        "\n",
        "            running_loss += loss.item()\n",
        "\n",
        "        print(f\"Epoch [{epoch+1}/{num_epochs}] - Training Loss: {running_loss:.4f}\")\n",
        "\n",
        "\n",
        "# define function to test the model on new data\n",
        "def testing(model, test_loader):\n",
        "    device = device_available()\n",
        "    model.to(device)\n",
        "    model.eval()\n",
        "\n",
        "    total = 0\n",
        "    correct = 0\n",
        "    predictions = []\n",
        "    true_labels = []\n",
        "\n",
        "    with torch.no_grad():\n",
        "        for inputs, labels in test_loader:\n",
        "            inputs, labels = inputs.to(device), labels.to(device)\n",
        "            outputs = model(inputs)\n",
        "            _, predicted = torch.max(outputs, 1)\n",
        "            total += labels.size(0)\n",
        "            correct += (predicted == labels).sum().item()\n",
        "\n",
        "            predictions.extend(predicted.cpu().numpy())\n",
        "            true_labels.extend(labels.cpu().numpy())\n",
        "\n",
        "    return predictions, true_labels\n",
        "\n",
        "# Wrap\n",
        "def train_model(model, train_loader, test_loader, criterion, optimizer, num_epochs=5):\n",
        "    training(model, train_loader, criterion, optimizer, num_epochs)\n",
        "    preds, targets = testing(model, test_loader)\n",
        "    return preds, targets\n",
        "\n",
        "\n",
        "def evaluate_model(preds, target):\n",
        "    preds = np.array(preds)\n",
        "    target = np.array(target)\n",
        "    print('\\nClassification Report:')\n",
        "    print(classification_report(target, preds))\n",
        "\n",
        "\n",
        "\n",
        "# After defining model, loaders, optimizer, criterion...\n",
        "# Call the functions by using the code below\n",
        "#preds, targets = train_model(model, train_loader, test_loader, criterion, optimizer, num_epochs=5)\n",
        "#evaluate_model(preds, targets)\n"
      ],
      "metadata": {
        "id": "9QTv8zJU_wBY"
      },
      "execution_count": 3,
      "outputs": []
    },
    {
      "cell_type": "code",
      "source": [],
      "metadata": {
        "id": "4PleuwfRAyuW"
      },
      "execution_count": null,
      "outputs": []
    }
  ]
}