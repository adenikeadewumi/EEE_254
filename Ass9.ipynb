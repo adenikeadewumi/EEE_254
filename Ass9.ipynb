{
  "nbformat": 4,
  "nbformat_minor": 0,
  "metadata": {
    "colab": {
      "provenance": [],
      "authorship_tag": "ABX9TyMvUN/VlqlQ1Q6UEjYV8AGh",
      "include_colab_link": true
    },
    "kernelspec": {
      "name": "python3",
      "display_name": "Python 3"
    },
    "language_info": {
      "name": "python"
    }
  },
  "cells": [
    {
      "cell_type": "markdown",
      "metadata": {
        "id": "view-in-github",
        "colab_type": "text"
      },
      "source": [
        "<a href=\"https://colab.research.google.com/github/adenikeadewumi/EEE_254/blob/main/Ass9.ipynb\" target=\"_parent\"><img src=\"https://colab.research.google.com/assets/colab-badge.svg\" alt=\"Open In Colab\"/></a>"
      ]
    },
    {
      "cell_type": "markdown",
      "source": [
        "Scoping and Stacking in python"
      ],
      "metadata": {
        "id": "7QBA_wME5jsN"
      }
    },
    {
      "cell_type": "code",
      "execution_count": 1,
      "metadata": {
        "colab": {
          "base_uri": "https://localhost:8080/"
        },
        "id": "gJEtSIdS5d0w",
        "outputId": "bebf8499-1a73-4d62-9893-3c1a5437fc75"
      },
      "outputs": [
        {
          "output_type": "stream",
          "name": "stdout",
          "text": [
            "x = 4\n",
            "z = 4\n",
            "x = abc\n",
            "x = 4\n",
            "x = 3\n",
            "z = <function f.<locals>.g at 0x7a4135d87420>\n",
            "x = abc\n"
          ]
        }
      ],
      "source": [
        "def f(x):\n",
        "    def g():\n",
        "        x = 'abc'                  # This x is local to g\n",
        "        print('x =', x)\n",
        "\n",
        "    def h():\n",
        "        z = x                      # z uses x from f’s scope\n",
        "        print('z =', z)\n",
        "\n",
        "    x = x + 1                      # Increments the original x\n",
        "    print('x =', x)                # Prints incremented x from f’s scope\n",
        "    h()                            # Calls h (uses f's updated x)\n",
        "    g()                            # Calls g (creates its own x)\n",
        "    print('x =', x)                # Still prints x from f’s scope\n",
        "    return g                       # Returns function g\n",
        "\n",
        "x = 3\n",
        "z = f(x)                           # Calls f(3), returns g\n",
        "print('x =', x)                    # Global x remains unchanged (still 3)\n",
        "print('z =', z)                    # Prints function object <function g>\n",
        "z()                                # Calls returned function g\n"
      ]
    },
    {
      "cell_type": "markdown",
      "source": [
        "This shows the different types of scope we have\n",
        "This are global, enclosing and local"
      ],
      "metadata": {
        "id": "DUA6WgTJ7Ctw"
      }
    },
    {
      "cell_type": "code",
      "source": [
        "x = 'global x'  # Global scope\n",
        "\n",
        "def outer():\n",
        "    x = 'enclosing x'  # Enclosing scope\n",
        "\n",
        "    def inner():\n",
        "        x = 'local x'  # Local scope\n",
        "        print(x)  # Should print 'local x'\n",
        "\n",
        "    inner()\n",
        "    print(x)  # Should print 'enclosing x'\n",
        "\n",
        "outer()\n",
        "print(x)  # Should print 'global x'\n"
      ],
      "metadata": {
        "colab": {
          "base_uri": "https://localhost:8080/"
        },
        "id": "Wlod8UZd5xau",
        "outputId": "639238d8-81b3-4fe4-bfd5-4f307646e1b5"
      },
      "execution_count": 2,
      "outputs": [
        {
          "output_type": "stream",
          "name": "stdout",
          "text": [
            "local x\n",
            "enclosing x\n",
            "global x\n"
          ]
        }
      ]
    },
    {
      "cell_type": "code",
      "source": [],
      "metadata": {
        "id": "SZ6V7y667Oqq"
      },
      "execution_count": null,
      "outputs": []
    }
  ]
}