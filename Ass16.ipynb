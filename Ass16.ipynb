{
  "nbformat": 4,
  "nbformat_minor": 0,
  "metadata": {
    "colab": {
      "provenance": [],
      "authorship_tag": "ABX9TyOSoWJZW6+CJA9HdffM1aM5",
      "include_colab_link": true
    },
    "kernelspec": {
      "name": "python3",
      "display_name": "Python 3"
    },
    "language_info": {
      "name": "python"
    }
  },
  "cells": [
    {
      "cell_type": "markdown",
      "metadata": {
        "id": "view-in-github",
        "colab_type": "text"
      },
      "source": [
        "<a href=\"https://colab.research.google.com/github/adenikeadewumi/EEE_254/blob/main/Ass16.ipynb\" target=\"_parent\"><img src=\"https://colab.research.google.com/assets/colab-badge.svg\" alt=\"Open In Colab\"/></a>"
      ]
    },
    {
      "cell_type": "markdown",
      "source": [
        "Sorting Algorithms:\n",
        "\n",
        "These are used to arrange a given list of values(textual or numerical) in an ascending or descending order\n",
        "Below are some examples of the different types we have"
      ],
      "metadata": {
        "id": "vU3g3kbXDzg3"
      }
    },
    {
      "cell_type": "markdown",
      "source": [
        "Bubble Sort is a simple sorting algorithm that repeatedly steps through the list, compares adjacent elements, and swaps them if they are in the wrong order. This process continues until no more swaps are needed, indicating the list is sorted.\n",
        "\n",
        "Time Complexity: O(n²)"
      ],
      "metadata": {
        "id": "5ovpytv_EqP3"
      }
    },
    {
      "cell_type": "code",
      "source": [
        "# BUBBLE SORT\n",
        "# Compares adjacent elements and swaps them if they are in the wrong order.\n",
        "def bubble_sort(arr):\n",
        "    n = len(arr)\n",
        "    for i in range(n):\n",
        "        # Last i elements are already in place\n",
        "        for j in range(0, n - i - 1):\n",
        "            if arr[j] > arr[j + 1]:\n",
        "                # Swap the elements\n",
        "                arr[j], arr[j + 1] = arr[j + 1], arr[j]\n",
        "    return arr"
      ],
      "metadata": {
        "id": "7v3SZ3N5Ek92"
      },
      "execution_count": 2,
      "outputs": []
    },
    {
      "cell_type": "markdown",
      "source": [
        "Selection Sort is a sorting algorithm that repeatedly selects the smallest (or largest) element from the unsorted portion of the array and swaps it with the first unsorted element. This process continues until the entire array is sorted.\n",
        "\n",
        "Time Complexity: O(n²)"
      ],
      "metadata": {
        "id": "mIfJxya9EsWL"
      }
    },
    {
      "cell_type": "code",
      "source": [
        "# SELECTION SORT\n",
        "# Selects the smallest element and moves it to the front.\n",
        "def selection_sort(arr):\n",
        "    n = len(arr)\n",
        "    for i in range(n):\n",
        "        min_idx = i  # Assume the first element is the lowest value in the list\n",
        "        for j in range(i + 1, n): # Checks the rest of the code excluding the value in index i\n",
        "            if arr[j] < arr[min_idx]:\n",
        "                min_idx = j  # Update if a smaller value is found\n",
        "        # Swap the found minimum element with the first element\n",
        "        arr[i], arr[min_idx] = arr[min_idx], arr[i]\n",
        "    return arr"
      ],
      "metadata": {
        "id": "PEuDycQaFbaR"
      },
      "execution_count": 3,
      "outputs": []
    },
    {
      "cell_type": "markdown",
      "source": [
        "Insertion Sort is a simple sorting algorithm that builds the sorted array one element at a time by repeatedly inserting the current element into its correct position within the sorted portion of the array. It works by comparing each element with the ones before it and shifting elements if necessary.\n",
        "\n",
        "Time Complexity: O(n²)\n",
        "\n",
        "\n",
        "\n",
        "\n",
        "\n",
        "\n",
        "\n"
      ],
      "metadata": {
        "id": "4ilI3Gx5FeoG"
      }
    },
    {
      "cell_type": "code",
      "source": [
        "# INSERTION SORT\n",
        "# Builds a sorted portion of the list by inserting elements one by one.\n",
        "def insertion_sort(arr):\n",
        "    for i in range(1, len(arr)):\n",
        "        key = arr[i]  # Element to be inserted\n",
        "        j = i - 1\n",
        "        # Move elements that are greater than key one position ahead\n",
        "        while j >= 0 and arr[j] > key:\n",
        "            arr[j + 1] = arr[j]\n",
        "            j -= 1\n",
        "        arr[j + 1] = key  # Insert key at the correct position\n",
        "    return arr"
      ],
      "metadata": {
        "id": "nPsxMkqyFixq"
      },
      "execution_count": 4,
      "outputs": []
    },
    {
      "cell_type": "markdown",
      "source": [
        "Merge Sort- This splits the list to be sorted into two halves then sorts both halfs then merges them\n",
        "his has a time complexity of O(n log n)."
      ],
      "metadata": {
        "id": "MA9e548RFnGN"
      }
    },
    {
      "cell_type": "code",
      "execution_count": 5,
      "metadata": {
        "id": "g_G459VFDtxM"
      },
      "outputs": [],
      "source": [
        "# MERGE SORT\n",
        "# Uses divide and conquer: splits the list, sorts each half, then merges.\n",
        "def merge_sort(arr):\n",
        "    if len(arr) <= 1:\n",
        "        return arr\n",
        "\n",
        "    def merge(left, right):\n",
        "        merged = []\n",
        "        i = j = 0\n",
        "        # Merge while comparing values from both sides\n",
        "        while i < len(left) and j < len(right):\n",
        "            if left[i] < right[j]:\n",
        "                merged.append(left[i])\n",
        "                i += 1\n",
        "            else:\n",
        "                merged.append(right[j])\n",
        "                j += 1\n",
        "        # Append any leftover elements\n",
        "        merged.extend(left[i:])\n",
        "        merged.extend(right[j:])\n",
        "        return merged\n",
        "\n",
        "    # Split the array and apply merge sort recursively\n",
        "    mid = len(arr) // 2\n",
        "    left = merge_sort(arr[:mid])\n",
        "    right = merge_sort(arr[mid:])\n",
        "    return merge(left, right)\n",
        "\n"
      ]
    },
    {
      "cell_type": "markdown",
      "source": [
        "Test the Algorithms"
      ],
      "metadata": {
        "id": "sAZ5z-M9F4sc"
      }
    },
    {
      "cell_type": "code",
      "source": [
        "# let's try the algorithms on this sample list\n",
        "arr = [64, 25, 12, 22, 11]\n",
        "\n",
        "# Show the sorted outputs\n",
        "print(\"Bubble Sort:\", bubble_sort(arr.copy())) # cppy() method is used in order to avoid mutating the actual list\n",
        "print(\"Selection Sort:\", selection_sort(arr.copy()))\n",
        "print(\"Insertion Sort:\", insertion_sort(arr.copy()))\n",
        "print(\"Merge Sort:\", merge_sort(arr.copy()))"
      ],
      "metadata": {
        "colab": {
          "base_uri": "https://localhost:8080/"
        },
        "id": "IM2x0nD_GCzV",
        "outputId": "66aa0b05-cb03-4869-8991-ca670edc3248"
      },
      "execution_count": 6,
      "outputs": [
        {
          "output_type": "stream",
          "name": "stdout",
          "text": [
            "Bubble Sort: [11, 12, 22, 25, 64]\n",
            "Selection Sort: [11, 12, 22, 25, 64]\n",
            "Insertion Sort: [11, 12, 22, 25, 64]\n",
            "Merge Sort: [11, 12, 22, 25, 64]\n"
          ]
        }
      ]
    },
    {
      "cell_type": "markdown",
      "source": [
        "Searching: Just like the name implies, it searches a dataset(list,...) for a particular element\n",
        "\n",
        "We have different types of algorithms for this as well"
      ],
      "metadata": {
        "id": "-7fElp_iEcbY"
      }
    },
    {
      "cell_type": "markdown",
      "source": [
        "Linear Search: This has a time complexity of O(n) in the worst case, where n is the number of elements in the array."
      ],
      "metadata": {
        "id": "SNspyoNkGws1"
      }
    },
    {
      "cell_type": "code",
      "source": [
        "# Goes through each element one by one to find the target\n",
        "def linear_search(arr, target):\n",
        "    for i in range(len(arr)):\n",
        "        if arr[i] == target:\n",
        "            return i  # Found the target at index i\n",
        "    return -1  # Not found\n"
      ],
      "metadata": {
        "id": "9u-hjKcBG0g_"
      },
      "execution_count": 7,
      "outputs": []
    },
    {
      "cell_type": "markdown",
      "source": [
        "Binary Search: This has a time complexity of O(log n) in the worst case, where n is the number of elements in the sorted array."
      ],
      "metadata": {
        "id": "m43NqQpWG3nT"
      }
    },
    {
      "cell_type": "code",
      "source": [
        "# Works only on sorted lists. Splits search space in half each time.\n",
        "def binary_search(arr, target):\n",
        "    left = 0\n",
        "    right = len(arr) - 1\n",
        "\n",
        "    while left <= right:\n",
        "        mid = (left + right) // 2  # Find the middle index\n",
        "        if arr[mid] == target:\n",
        "            return mid  # Found the target\n",
        "        elif arr[mid] < target:\n",
        "            left = mid + 1  # Search in the right half\n",
        "        else:\n",
        "            right = mid - 1  # Search in the left half\n",
        "\n",
        "    return -1  # Not found"
      ],
      "metadata": {
        "id": "D1jt9YLwG9S4"
      },
      "execution_count": 8,
      "outputs": []
    },
    {
      "cell_type": "markdown",
      "source": [
        "Jump Search: This has a time complexity of in terms of Big O notation is O(√n)"
      ],
      "metadata": {
        "id": "UH-PcFTMHAaA"
      }
    },
    {
      "cell_type": "code",
      "source": [
        "import math\n",
        "\n",
        "\n",
        "# Works on sorted lists. Jumps ahead by a fixed block and then does linear search.\n",
        "def jump_search(arr, target):\n",
        "    n = len(arr)\n",
        "    step = int(math.sqrt(n))  # Optimal jump size\n",
        "    prev = 0\n",
        "\n",
        "    # Find the block where the element might be\n",
        "    while prev < n and arr[min(step, n) - 1] < target:\n",
        "        prev = step\n",
        "        step += int(math.sqrt(n))\n",
        "        if prev >= n:\n",
        "            return -1  # Target is not present\n",
        "\n",
        "    # Do linear search within the block\n",
        "    for i in range(prev, min(step, n)):\n",
        "        if arr[i] == target:\n",
        "            return i\n",
        "    return -1  # Not found\n",
        "\n",
        "\n",
        "\n",
        "\n"
      ],
      "metadata": {
        "id": "jzuxw7tpEgex"
      },
      "execution_count": 9,
      "outputs": []
    },
    {
      "cell_type": "markdown",
      "source": [
        "Test the algorithms\n"
      ],
      "metadata": {
        "id": "157Hd15EHGEn"
      }
    },
    {
      "cell_type": "code",
      "source": [
        "arr_unsorted = [23, 5, 12, 7, 34]\n",
        "arr_sorted = sorted(arr_unsorted)  # Required for binary, jump, and interpolation\n",
        "target = 12\n",
        "\n",
        "# Search results\n",
        "print(\"Linear Search:\", linear_search(arr_unsorted, target))  # Works on unsorted\n",
        "print(\"Binary Search:\", binary_search(arr_sorted, target))    # Needs sorted array\n",
        "print(\"Jump Search:\", jump_search(arr_sorted, target))        # Needs sorted array"
      ],
      "metadata": {
        "colab": {
          "base_uri": "https://localhost:8080/"
        },
        "id": "QGLpl4FyHIG6",
        "outputId": "784c4932-91ad-4944-d1fa-aee8d7e0179d"
      },
      "execution_count": 10,
      "outputs": [
        {
          "output_type": "stream",
          "name": "stdout",
          "text": [
            "Linear Search: 2\n",
            "Binary Search: 2\n",
            "Jump Search: 2\n"
          ]
        }
      ]
    },
    {
      "cell_type": "markdown",
      "source": [
        "Thank you for stopping by!!!!\n"
      ],
      "metadata": {
        "id": "e0vMaHrjJD4W"
      }
    }
  ]
}