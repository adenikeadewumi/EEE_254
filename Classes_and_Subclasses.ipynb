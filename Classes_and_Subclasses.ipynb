{
  "nbformat": 4,
  "nbformat_minor": 0,
  "metadata": {
    "colab": {
      "provenance": [],
      "authorship_tag": "ABX9TyNV7cOoqpBIzMGizRKiYCth",
      "include_colab_link": true
    },
    "kernelspec": {
      "name": "python3",
      "display_name": "Python 3"
    },
    "language_info": {
      "name": "python"
    }
  },
  "cells": [
    {
      "cell_type": "markdown",
      "metadata": {
        "id": "view-in-github",
        "colab_type": "text"
      },
      "source": [
        "<a href=\"https://colab.research.google.com/github/adenikeadewumi/EEE_254/blob/main/Classes_and_Subclasses.ipynb\" target=\"_parent\"><img src=\"https://colab.research.google.com/assets/colab-badge.svg\" alt=\"Open In Colab\"/></a>"
      ]
    },
    {
      "cell_type": "markdown",
      "source": [
        "# Introduction to Python Classes\n",
        "\n",
        "In this notebook, we will dive deep into **Python Classes** and how they make programming more efficient.\n",
        "\n",
        "We’ll learn:\n",
        "- What classes are and why they are important\n",
        "- How to create a class in Python\n",
        "- How to define attributes (characteristics) and methods (behaviors)\n",
        "- The concept of **objects** (instances of classes)\n",
        "- The power of **inheritance** with **subclasses**\n",
        "\n",
        "By the end of this notebook, you'll understand the building blocks of Object-Oriented Programming (OOP) in Python, and you'll be able to use classes to write clean, modular code!\n"
      ],
      "metadata": {
        "id": "j7lV9QB_Gu2s"
      }
    },
    {
      "cell_type": "markdown",
      "source": [
        "## What is a Class?\n",
        "\n",
        "A **class** in Python is like a blueprint for creating objects (instances).\n",
        "\n",
        "It defines:\n",
        "- **Attributes** (characteristics): Data stored in an object\n",
        "- **Methods** (behaviors): Functions that define the actions an object can perform\n",
        "\n",
        "You can think of a class as a **prototype**, and the object is an instance of that prototype with specific data.\n",
        "\n",
        "Let’s start by creating a simple class and see how it works.\n"
      ],
      "metadata": {
        "id": "F0lGvJxuG4k9"
      }
    },
    {
      "cell_type": "markdown",
      "source": [
        "-----\n",
        "Basic Class Example"
      ],
      "metadata": {
        "id": "RwAnAbZbFudI"
      }
    },
    {
      "cell_type": "code",
      "execution_count": 2,
      "metadata": {
        "colab": {
          "base_uri": "https://localhost:8080/"
        },
        "id": "CZ266QvOD97u",
        "outputId": "53a0c169-02f7-42bd-8c02-ed2ffbf2d119"
      },
      "outputs": [
        {
          "output_type": "stream",
          "name": "stdout",
          "text": [
            "Buddy\n",
            "Golden Retriever\n",
            "Buddy says Woof!\n"
          ]
        }
      ],
      "source": [
        "I# Creating a simple class\n",
        "class Dog:\n",
        "    def __init__(self, name, breed):\n",
        "        self.name = name  # attribute\n",
        "        self.breed = breed  # attribute\n",
        "\n",
        "    def bark(self):  # method\n",
        "        print(f\"{self.name} says Woof!\")\n",
        "\n",
        "# Creating an object (instance) of the class\n",
        "my_dog = Dog(\"Buddy\", \"Golden Retriever\")\n",
        "\n",
        "# Access attributes\n",
        "print(my_dog.name)    # Output: Buddy\n",
        "print(my_dog.breed)   # Output: Golden Retriever\n",
        "\n",
        "# Call method\n",
        "my_dog.bark()         # Output: Buddy says Woof!\n"
      ]
    },
    {
      "cell_type": "markdown",
      "source": [
        "## Breaking Down the Code\n",
        "\n",
        "1. **Defining a Class**:\n",
        "   - We use the `class` keyword to define a class.\n",
        "   - In the example, `Dog` is the class name.\n",
        "\n",
        "2. **The `__init__` Method**:\n",
        "   - The `__init__` method is the **constructor**. It initializes the object’s attributes.\n",
        "   - It’s called automatically when a new object is created.\n",
        "\n",
        "3. **Attributes**:\n",
        "   - `self.name` and `self.breed` are attributes that represent the dog's name and breed.\n",
        "\n",
        "4. **Methods**:\n",
        "   - `bark` is a method that makes the dog \"bark\".\n",
        "   - Methods are defined inside the class, and we can use them on objects created from the class.\n",
        "\n",
        "Let’s now explore how to modify the attributes of an object after creation.\n"
      ],
      "metadata": {
        "id": "7plwFriLGn10"
      }
    },
    {
      "cell_type": "markdown",
      "source": [
        "Modifying Object Attributes"
      ],
      "metadata": {
        "id": "LVFQ--cIG_2n"
      }
    },
    {
      "cell_type": "code",
      "source": [
        "# Modifying an object's attribute\n",
        "my_dog.name = \"Max\"\n",
        "print(my_dog.name)  # Output: Max\n",
        "\n",
        "# Calling the bark method again\n",
        "my_dog.bark()  # Output: Max says Woof!\n"
      ],
      "metadata": {
        "colab": {
          "base_uri": "https://localhost:8080/"
        },
        "id": "0HvKIwqVETiF",
        "outputId": "e71c0bbb-b75c-4dc3-b492-655613ccb990"
      },
      "execution_count": 3,
      "outputs": [
        {
          "output_type": "stream",
          "name": "stdout",
          "text": [
            "Max\n",
            "Max says Woof!\n"
          ]
        }
      ]
    },
    {
      "cell_type": "markdown",
      "source": [
        "## Introduction to Subclasses (Inheritance)\n",
        "\n",
        "A **subclass** is a class that inherits attributes and methods from another class (called the **parent class**). This allows us to create new classes that are based on existing ones.\n",
        "\n",
        "The ability to create subclasses is called **Inheritance** in Object-Oriented Programming (OOP).\n",
        "\n",
        "Let’s create a subclass called `Puppy` that inherits from the `Dog` class.\n"
      ],
      "metadata": {
        "id": "jvWlf__tHHs0"
      }
    },
    {
      "cell_type": "markdown",
      "source": [
        "Creating a Subclass"
      ],
      "metadata": {
        "id": "dievV9esHJd-"
      }
    },
    {
      "cell_type": "code",
      "source": [
        "# Defining a subclass called Puppy that inherits from Dog\n",
        "class Puppy(Dog):\n",
        "    def __init__(self, name, breed, age):\n",
        "        super().__init__(name, breed)  # Calling the parent class constructor\n",
        "        self.age = age  # New attribute specific to Puppy\n",
        "\n",
        "    def play(self):  # New method specific to Puppy\n",
        "        print(f\"{self.name} is playing!\")\n",
        "\n",
        "# Creating an instance (object) of the Puppy class\n",
        "my_puppy = Puppy(\"Charlie\", \"Labrador\", 1)\n",
        "\n",
        "# Accessing attributes and methods from both the parent and subclass\n",
        "print(my_puppy.name)   # Output: Charlie\n",
        "print(my_puppy.age)    # Output: 1\n",
        "my_puppy.bark()        # Output: Charlie says Woof! (inherited method)\n",
        "my_puppy.play()        # Output: Charlie is playing! (new method)\n"
      ],
      "metadata": {
        "colab": {
          "base_uri": "https://localhost:8080/"
        },
        "id": "m1XyL4zzHD4n",
        "outputId": "7ff4ddb5-3f3c-46c1-b08d-800e6b1db3fc"
      },
      "execution_count": 4,
      "outputs": [
        {
          "output_type": "stream",
          "name": "stdout",
          "text": [
            "Charlie\n",
            "1\n",
            "Charlie says Woof!\n",
            "Charlie is playing!\n"
          ]
        }
      ]
    },
    {
      "cell_type": "markdown",
      "source": [
        "## Overriding Methods in Subclasses\n",
        "\n",
        "A subclass can also **override** methods from the parent class. This means that the subclass can define its own version of a method, changing or extending its behavior.\n",
        "\n",
        "Let’s override the `bark` method in the `Puppy` class to make it sound different.\n"
      ],
      "metadata": {
        "id": "_bkUUYwVHRXJ"
      }
    },
    {
      "cell_type": "code",
      "source": [
        "# Overriding the bark method in the Puppy subclass\n",
        "class Puppy(Dog):\n",
        "    def __init__(self, name, breed, age):\n",
        "        super().__init__(name, breed)\n",
        "        self.age = age\n",
        "\n",
        "    def bark(self):  # Overriding the bark method\n",
        "        print(f\"{self.name} barks playfully!\")\n",
        "\n",
        "# Create an instance of Puppy\n",
        "my_puppy = Puppy(\"Bella\", \"Beagle\", 2)\n",
        "\n",
        "# Calling the overridden method\n",
        "my_puppy.bark()  # Output: Bella barks playfully!\n"
      ],
      "metadata": {
        "colab": {
          "base_uri": "https://localhost:8080/"
        },
        "id": "Wghy2Q0oHPEC",
        "outputId": "a6abe91e-9d30-4f5e-a55c-30093ea7ec68"
      },
      "execution_count": 5,
      "outputs": [
        {
          "output_type": "stream",
          "name": "stdout",
          "text": [
            "Bella barks playfully!\n"
          ]
        }
      ]
    },
    {
      "cell_type": "markdown",
      "source": [
        "## Using `super()` to Call Parent Methods\n",
        "\n",
        "Sometimes, we need to call the parent class's methods inside the subclass. We can do this using the `super()` function.\n",
        "\n",
        "Let's see how we can use `super()` to call the parent class's `bark` method while still adding some custom behavior in the `Puppy` class.\n",
        "\n"
      ],
      "metadata": {
        "id": "vIfiHJlDHWV9"
      }
    },
    {
      "cell_type": "code",
      "source": [
        "class Puppy(Dog):\n",
        "    def __init__(self, name, breed, age):\n",
        "        super().__init__(name, breed)\n",
        "        self.age = age\n",
        "\n",
        "    def bark(self):\n",
        "        super().bark()  # Calling the parent class's bark method\n",
        "        print(f\"{self.name} is also wagging its tail!\")\n",
        "\n",
        "# Create a Puppy object\n",
        "my_puppy = Puppy(\"Rex\", \"Bulldog\", 3)\n",
        "\n",
        "# Call the bark method\n",
        "my_puppy.bark()\n",
        "# Output: Rex says Woof!\n",
        "#         Rex is also wagging its tail!\n"
      ],
      "metadata": {
        "colab": {
          "base_uri": "https://localhost:8080/"
        },
        "id": "tJv_soMUHZQP",
        "outputId": "7afe5e27-7975-4d99-a508-6a88130adceb"
      },
      "execution_count": 6,
      "outputs": [
        {
          "output_type": "stream",
          "name": "stdout",
          "text": [
            "Rex says Woof!\n",
            "Rex is also wagging its tail!\n"
          ]
        }
      ]
    },
    {
      "cell_type": "markdown",
      "source": [
        "## Conclusion\n",
        "\n",
        "Congratulations! 🎉 You have now learned the basics of classes and subclasses in Python. You should now be able to:\n",
        "- Create classes with attributes and methods\n",
        "- Instantiate objects from classes\n",
        "- Use inheritance to create subclasses\n",
        "- Override methods in subclasses\n",
        "- Use `super()` to access parent class methods\n",
        "\n",
        "Classes are a powerful tool in Python that help us write modular, reusable, and organized code. They are a core concept in Object-Oriented Programming (OOP) and will help you write clean and efficient programs.\n",
        "\n",
        "Keep practicing and exploring more advanced OOP concepts as you get comfortable with these basics!\n"
      ],
      "metadata": {
        "id": "2Jweg74FHbn-"
      }
    },
    {
      "cell_type": "code",
      "source": [],
      "metadata": {
        "id": "7HZ5TwZoHTyS"
      },
      "execution_count": null,
      "outputs": []
    }
  ]
}