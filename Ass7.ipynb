{
  "nbformat": 4,
  "nbformat_minor": 0,
  "metadata": {
    "colab": {
      "provenance": [],
      "authorship_tag": "ABX9TyOUBUV6kpMWa7lqme20uV/7",
      "include_colab_link": true
    },
    "kernelspec": {
      "name": "python3",
      "display_name": "Python 3"
    },
    "language_info": {
      "name": "python"
    }
  },
  "cells": [
    {
      "cell_type": "markdown",
      "metadata": {
        "id": "view-in-github",
        "colab_type": "text"
      },
      "source": [
        "<a href=\"https://colab.research.google.com/github/adenikeadewumi/EEE_254/blob/main/Ass7.ipynb\" target=\"_parent\"><img src=\"https://colab.research.google.com/assets/colab-badge.svg\" alt=\"Open In Colab\"/></a>"
      ]
    },
    {
      "cell_type": "markdown",
      "source": [
        "Euclidean distance\n",
        "\n",
        "This is the square root of the difference between two points"
      ],
      "metadata": {
        "id": "JKQ6r8e5GhG9"
      }
    },
    {
      "cell_type": "code",
      "execution_count": 16,
      "metadata": {
        "id": "QlzN51qEqB3W"
      },
      "outputs": [],
      "source": [
        "\n",
        "def square_root(number):\n",
        "    \"\"\" Assumes number is a positive integer\n",
        "      Returns the square root of number\n",
        "      \"\"\"\n",
        "    # Handle negative numbers (no real square root)\n",
        "    if number < 0:\n",
        "        return (\"Cannot compute square root of a negative number\")\n",
        "\n",
        "    # Initialize low and high bounds\n",
        "    low = 0\n",
        "    high = number if number >= 1 else 1  # Handle numbers between 0 and 1\n",
        "\n",
        "    # Initial guess\n",
        "    guess = (high + low) / 2\n",
        "    epsilon = 0.001  # This is a value close to zero to chack the difference between the number and the square of the guess\n",
        "\n",
        "    # Use binary search to approximate the square root\n",
        "    while abs(guess**2 - number) >= epsilon:\n",
        "        if guess**2 < number:\n",
        "            low = guess\n",
        "        else:\n",
        "            high = guess\n",
        "        guess = (high + low) / 2\n",
        "\n",
        "    return guess\n",
        "\n"
      ]
    },
    {
      "cell_type": "code",
      "execution_count": 17,
      "metadata": {
        "id": "F8MD6kjDGeUc"
      },
      "outputs": [],
      "source": [
        "def eucl_dist(point1, point2):\n",
        "    \"\"\" Assumes point1 and point2 are (x, y) tuples\n",
        "      Returns the Euclidean distance between point1 and point2\n",
        "      \"\"\"\n",
        "    square_num= (point1[0] - point2[0])**2 + (point1[1] - point2[1])**2 # Unpack the tuple and store the input of the square root function in variable square_num\n",
        "    return square_root(square_num) # Return the square of the variable square_num\n"
      ]
    },
    {
      "cell_type": "markdown",
      "source": [
        "Call function"
      ],
      "metadata": {
        "id": "Ewvp_atiJgZD"
      }
    },
    {
      "cell_type": "code",
      "source": [
        "point1= (4, -5)\n",
        "point2= (6, 8)\n",
        "eucl_dist(point1, point2)"
      ],
      "metadata": {
        "colab": {
          "base_uri": "https://localhost:8080/"
        },
        "id": "CoMYmuAFJe_e",
        "outputId": "b40eaab9-0c0b-47d3-f027-507efea9eb31"
      },
      "execution_count": 18,
      "outputs": [
        {
          "output_type": "execute_result",
          "data": {
            "text/plain": [
              "13.152945280075073"
            ]
          },
          "metadata": {},
          "execution_count": 18
        }
      ]
    }
  ]
}