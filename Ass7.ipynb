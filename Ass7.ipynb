{
  "nbformat": 4,
  "nbformat_minor": 0,
  "metadata": {
    "colab": {
      "provenance": [],
      "authorship_tag": "ABX9TyOCjwW7+kFTV37EWO9Wnkjl",
      "include_colab_link": true
    },
    "kernelspec": {
      "name": "python3",
      "display_name": "Python 3"
    },
    "language_info": {
      "name": "python"
    }
  },
  "cells": [
    {
      "cell_type": "markdown",
      "metadata": {
        "id": "view-in-github",
        "colab_type": "text"
      },
      "source": [
        "<a href=\"https://colab.research.google.com/github/adenikeadewumi/EEE_254/blob/main/Ass7.ipynb\" target=\"_parent\"><img src=\"https://colab.research.google.com/assets/colab-badge.svg\" alt=\"Open In Colab\"/></a>"
      ]
    },
    {
      "cell_type": "markdown",
      "source": [
        "Euclidean distance\n",
        "\n",
        "This is the square root of the difference between two points"
      ],
      "metadata": {
        "id": "JKQ6r8e5GhG9"
      }
    },
    {
      "cell_type": "code",
      "execution_count": 7,
      "metadata": {
        "id": "QlzN51qEqB3W"
      },
      "outputs": [],
      "source": [
        "\n",
        "def square_root(number):\n",
        "    # Handle negative numbers (no real square root)\n",
        "    if number < 0:\n",
        "        return (\"Cannot compute square root of a negative number\")\n",
        "\n",
        "    # Initialize low and high bounds\n",
        "    low = 0\n",
        "    high = number if number >= 1 else 1  # Handle numbers between 0 and 1\n",
        "\n",
        "    # Initial guess\n",
        "    guess = (high + low) / 2\n",
        "    epsilon = 0.001  # Tolerance level\n",
        "\n",
        "    # Use binary search to approximate the square root\n",
        "    while abs(guess**2 - number) >= epsilon:\n",
        "        if guess**2 < number:\n",
        "            low = guess\n",
        "        else:\n",
        "            high = guess\n",
        "        guess = (high + low) / 2\n",
        "\n",
        "    return guess\n",
        "\n"
      ]
    },
    {
      "cell_type": "code",
      "execution_count": 11,
      "metadata": {
        "id": "F8MD6kjDGeUc"
      },
      "outputs": [],
      "source": [
        "def eucl_dist(point1, point2):\n",
        "    \"\"\" Assumes point1 and point2 are (x, y) tuples\n",
        "      Returns the Euclidean distance between point1 and point2\n",
        "      \"\"\"\n",
        "    square_num= (point1[0] - point2[0])**2 + (point1[1] - point2[1])**2\n",
        "    return square_root(square_num)\n"
      ]
    },
    {
      "cell_type": "markdown",
      "source": [
        "Call function"
      ],
      "metadata": {
        "id": "Ewvp_atiJgZD"
      }
    },
    {
      "cell_type": "code",
      "source": [
        "point1= (4, -5)\n",
        "point2= (6, 8)\n",
        "eucl_dist(point1, point2)"
      ],
      "metadata": {
        "colab": {
          "base_uri": "https://localhost:8080/"
        },
        "id": "CoMYmuAFJe_e",
        "outputId": "dfb7f087-6355-466e-de5d-c8d43496b2ce"
      },
      "execution_count": 12,
      "outputs": [
        {
          "output_type": "execute_result",
          "data": {
            "text/plain": [
              "13.152945280075073"
            ]
          },
          "metadata": {},
          "execution_count": 12
        }
      ]
    },
    {
      "cell_type": "markdown",
      "source": [],
      "metadata": {
        "id": "8qiQSeaDNPEm"
      }
    },
    {
      "cell_type": "code",
      "source": [],
      "metadata": {
        "id": "eXTl_5ddJqtx"
      },
      "execution_count": null,
      "outputs": []
    }
  ]
}