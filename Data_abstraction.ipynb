{
  "nbformat": 4,
  "nbformat_minor": 0,
  "metadata": {
    "colab": {
      "provenance": [],
      "authorship_tag": "ABX9TyNBn36qHjuD/yybkuzK7SCS",
      "include_colab_link": true
    },
    "kernelspec": {
      "name": "python3",
      "display_name": "Python 3"
    },
    "language_info": {
      "name": "python"
    }
  },
  "cells": [
    {
      "cell_type": "markdown",
      "metadata": {
        "id": "view-in-github",
        "colab_type": "text"
      },
      "source": [
        "<a href=\"https://colab.research.google.com/github/adenikeadewumi/EEE_254/blob/main/Data_abstraction.ipynb\" target=\"_parent\"><img src=\"https://colab.research.google.com/assets/colab-badge.svg\" alt=\"Open In Colab\"/></a>"
      ]
    },
    {
      "cell_type": "markdown",
      "source": [
        "Data abstraction\n"
      ],
      "metadata": {
        "id": "UCjNKgxnXA5-"
      }
    },
    {
      "cell_type": "code",
      "execution_count": 13,
      "metadata": {
        "id": "n8yAWceVWygc"
      },
      "outputs": [],
      "source": [
        "#This is a sample implementation of abstract data types in python\n",
        "import datetime\n",
        "\n",
        "#Note the single unders\n",
        "class Person(object):#Create class Person This is the blueprint that will be used to collect different people's data by creating new object  per person\n",
        "    def __init__(self, name):#This is a magic method that is always called when an object is made. Here, it collects object's nameq and extracts the last name. It also sets burthday to None\n",
        "        \"\"\"Assumes name a string. Create a person\"\"\"\n",
        "        self._name = name\n",
        "        try:#To check whether there is a a last index exist. This will prevent the rise of errors user inputs just their first name i.e Person(\"Adenike\")\n",
        "            last_blank = name.rindex(' ')\n",
        "            self._last_name = name[last_blank+1:]\n",
        "        except:#This catches the excetion that rises and sets the inputed name to last name\n",
        "            self._last_name = name\n",
        "        self._birthday = None\n",
        "\n",
        "    def get_name(self):#This is a method that returns the attribute name\n",
        "        \"\"\"Returns self's full name\"\"\"\n",
        "        return self._name\n",
        "\n",
        "    def get_last_name(self):#This returns the extracted last name\n",
        "        \"\"\"Returns self's last name\"\"\"\n",
        "        return self._last_name\n",
        "\n",
        "    def set_birthday(self, birthdate):# This is a method used to collect birthdate from user\n",
        "        \"\"\"Assumes birthdate is of type datetime.date\n",
        "        Sets self's birthday to birthdate\"\"\"\n",
        "        self._birthday = birthdate\n",
        "\n",
        "    def get_age(self):#this calculates the number of days the person has spent on earth\n",
        "        \"\"\"Returns self's current age in days\"\"\"\n",
        "        if self._birthday == None:\n",
        "            raise ValueError\n",
        "        return (datetime.date.today() - self._birthday).days\n",
        "\n",
        "    def __lt__(self, other):#This is a magic method that compares in python\n",
        "        \"\"\"Assume other a Person\n",
        "        Returns True if self precedes other in alphabetical\n",
        "        order, and False otherwise. Comparison is based on last\n",
        "        names, but if these are the same full names are compared.\"\"\"\n",
        "        if self._last_name == other._last_name:\n",
        "            return self._name < other._name\n",
        "        return self._last_name < other._last_name\n",
        "\n",
        "    def __str__(self):\n",
        "        \"\"\"Returns self's name\"\"\"\n",
        "        return self._name\n"
      ]
    },
    {
      "cell_type": "code",
      "source": [
        "# Instantiate an object p1\n",
        "p1= Person(\"Adenike Adewumi\")"
      ],
      "metadata": {
        "colab": {
          "base_uri": "https://localhost:8080/",
          "height": 36
        },
        "id": "1pHSXP0JbibQ",
        "outputId": "c3f59503-5e57-4c3c-d847-b03644bcc543"
      },
      "execution_count": 38,
      "outputs": [
        {
          "output_type": "execute_result",
          "data": {
            "text/plain": [
              "'Amara Benson'"
            ],
            "application/vnd.google.colaboratory.intrinsic+json": {
              "type": "string"
            }
          },
          "metadata": {},
          "execution_count": 38
        }
      ]
    },
    {
      "cell_type": "code",
      "source": [
        "#Get the object's name\n",
        "p1.get_name()"
      ],
      "metadata": {
        "id": "rRABMJhseq8Y",
        "outputId": "07d978de-9674-46ea-d53d-62989c3db2c3",
        "colab": {
          "base_uri": "https://localhost:8080/",
          "height": 36
        }
      },
      "execution_count": 40,
      "outputs": [
        {
          "output_type": "execute_result",
          "data": {
            "text/plain": [
              "'Adenike Adewumi'"
            ],
            "application/vnd.google.colaboratory.intrinsic+json": {
              "type": "string"
            }
          },
          "metadata": {},
          "execution_count": 40
        }
      ]
    },
    {
      "cell_type": "code",
      "source": [
        "#Create another instance\n",
        "p2= Person(\"Amara Benson\")"
      ],
      "metadata": {
        "id": "9jsRA1bDeq57"
      },
      "execution_count": 41,
      "outputs": []
    },
    {
      "cell_type": "code",
      "source": [
        "p2.get_name()"
      ],
      "metadata": {
        "id": "ALUmhEVweq3W",
        "outputId": "b6609bf0-c4c6-4484-9459-3c844eeb1c5d",
        "colab": {
          "base_uri": "https://localhost:8080/",
          "height": 36
        }
      },
      "execution_count": 42,
      "outputs": [
        {
          "output_type": "execute_result",
          "data": {
            "text/plain": [
              "'Amara Benson'"
            ],
            "application/vnd.google.colaboratory.intrinsic+json": {
              "type": "string"
            }
          },
          "metadata": {},
          "execution_count": 42
        }
      ]
    },
    {
      "cell_type": "code",
      "source": [
        "#This shows that every object is unique\n",
        "p3= Person(\"Adenike Adewumi\")\n",
        "p1==p2"
      ],
      "metadata": {
        "id": "HRqdsNj-ew78",
        "outputId": "feb926b2-c11e-4b9b-dcfe-7f985adaae25",
        "colab": {
          "base_uri": "https://localhost:8080/"
        }
      },
      "execution_count": 43,
      "outputs": [
        {
          "output_type": "execute_result",
          "data": {
            "text/plain": [
              "False"
            ]
          },
          "metadata": {},
          "execution_count": 43
        }
      ]
    },
    {
      "cell_type": "code",
      "source": [
        "p2.__str__()"
      ],
      "metadata": {
        "id": "O0wPj9yveq0u"
      },
      "execution_count": null,
      "outputs": []
    },
    {
      "cell_type": "code",
      "source": [
        "#Try out other methods\n",
        "p1.get_last_name()\n",
        "p1.set_birthday(datetime.date(1965, 7, 8))"
      ],
      "metadata": {
        "id": "zAL_LY4Mbl70"
      },
      "execution_count": 35,
      "outputs": []
    },
    {
      "cell_type": "code",
      "source": [
        "age= p1.get_age()\n",
        "age/365"
      ],
      "metadata": {
        "colab": {
          "base_uri": "https://localhost:8080/"
        },
        "id": "99RaIh5Zb9-p",
        "outputId": "9e63cfec-d714-4517-c900-c7f007cf0295"
      },
      "execution_count": 36,
      "outputs": [
        {
          "output_type": "execute_result",
          "data": {
            "text/plain": [
              "59.863013698630134"
            ]
          },
          "metadata": {},
          "execution_count": 36
        }
      ]
    },
    {
      "cell_type": "code",
      "source": [
        "p1.__lt__(p2) #This outputs true because the A in p1's last name comes before B in alphabetical order"
      ],
      "metadata": {
        "colab": {
          "base_uri": "https://localhost:8080/"
        },
        "id": "6296wayycMuj",
        "outputId": "052cfef8-8b49-4390-caf9-c3529a835929"
      },
      "execution_count": 37,
      "outputs": [
        {
          "output_type": "execute_result",
          "data": {
            "text/plain": [
              "True"
            ]
          },
          "metadata": {},
          "execution_count": 37
        }
      ]
    },
    {
      "cell_type": "code",
      "source": [],
      "metadata": {
        "id": "4ruiq0eddNUX"
      },
      "execution_count": null,
      "outputs": []
    }
  ]
}