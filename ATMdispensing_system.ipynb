{
  "nbformat": 4,
  "nbformat_minor": 0,
  "metadata": {
    "colab": {
      "provenance": [],
      "authorship_tag": "ABX9TyN3QvyLGFmV8ty7GkuNejpb",
      "include_colab_link": true
    },
    "kernelspec": {
      "name": "python3",
      "display_name": "Python 3"
    },
    "language_info": {
      "name": "python"
    }
  },
  "cells": [
    {
      "cell_type": "markdown",
      "metadata": {
        "id": "view-in-github",
        "colab_type": "text"
      },
      "source": [
        "<a href=\"https://colab.research.google.com/github/adenikeadewumi/EEE_254/blob/main/ATMdispensing_system.ipynb\" target=\"_parent\"><img src=\"https://colab.research.google.com/assets/colab-badge.svg\" alt=\"Open In Colab\"/></a>"
      ]
    },
    {
      "cell_type": "markdown",
      "source": [
        "Handling Exceptions in Pythom\n",
        "\n",
        "\n",
        "In this notebook, I will implement a simple function that uses try-except that helps an ATM gracefully fail."
      ],
      "metadata": {
        "id": "8OFvoa2e6uPr"
      }
    },
    {
      "cell_type": "code",
      "source": [],
      "metadata": {
        "id": "gSSHT_6D8yLJ"
      },
      "execution_count": null,
      "outputs": []
    },
    {
      "cell_type": "code",
      "execution_count": 6,
      "metadata": {
        "colab": {
          "base_uri": "https://localhost:8080/"
        },
        "id": "tLmKu9op6sCz",
        "outputId": "c8f15cbd-a8aa-4a08-abf0-eceaf1d94812"
      },
      "outputs": [
        {
          "output_type": "stream",
          "name": "stdout",
          "text": [
            "Enter the amount you want to withdraw: 19000\n",
            "Transaction failed. \n",
            "Thanks for banking with us. \n",
            " Enjoy your day\n"
          ]
        }
      ],
      "source": [
        "#Define a function that checks user's balancea and compares it with the requested amount and decides whether to dispense or not\n",
        "\n",
        "def get_current_account():\n",
        "  \"\"\"Takes in the user's current balance\n",
        "  Returns user's current account balance\"\"\"\n",
        "\n",
        "  #Although this example can be written without this funtion, I want to show that it can be extended withe more features in real life\n",
        "\n",
        "  num= 10000\n",
        "\n",
        "  return num\n",
        "\n",
        "def compare_decide(wanted_cash):\n",
        "  current_amount= get_current_account(e)\n",
        "  # use try finally to contol flow\n",
        "  try: # this checks whether the code raises no error\n",
        "    if wanted_cash> current_amount:\n",
        "      raise ValueError(\"Insufficient funds.\") # I raised an error manually because i want to stop the system if the amount they want to withdraw is greater than the available amount\n",
        "  except ValueError as e:# This is executed when an error is discovered\n",
        "    print(\"Transaction failed. \")\n",
        "  else:#This runs if no error is encountered\n",
        "    print(\"Please wait...... Dispensing....\")\n",
        "  finally:# This always runs and it greets the users :)\n",
        "    print(\"Thanks for banking with us. \\n Enjoy your day\")\n",
        "\n",
        "num= int(input(\"Enter the amount you want to withdraw: \"))\n",
        "compare_decide(num)\n",
        "\n"
      ]
    },
    {
      "cell_type": "code",
      "source": [],
      "metadata": {
        "id": "m7OI0ENg_qrX"
      },
      "execution_count": null,
      "outputs": []
    }
  ]
}