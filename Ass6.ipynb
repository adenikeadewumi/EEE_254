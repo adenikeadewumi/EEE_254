{
  "nbformat": 4,
  "nbformat_minor": 0,
  "metadata": {
    "colab": {
      "provenance": [],
      "authorship_tag": "ABX9TyMAw6rWwTTMqJ3DrW2s88xv",
      "include_colab_link": true
    },
    "kernelspec": {
      "name": "python3",
      "display_name": "Python 3"
    },
    "language_info": {
      "name": "python"
    }
  },
  "cells": [
    {
      "cell_type": "markdown",
      "metadata": {
        "id": "view-in-github",
        "colab_type": "text"
      },
      "source": [
        "<a href=\"https://colab.research.google.com/github/adenikeadewumi/EEE_254/blob/main/Ass6.ipynb\" target=\"_parent\"><img src=\"https://colab.research.google.com/assets/colab-badge.svg\" alt=\"Open In Colab\"/></a>"
      ]
    },
    {
      "cell_type": "code",
      "execution_count": 3,
      "metadata": {
        "colab": {
          "base_uri": "https://localhost:8080/"
        },
        "id": "QAYwvHIiCSz4",
        "outputId": "7a747166-9a44-48fa-c867-2e0daa261d46"
      },
      "outputs": [
        {
          "output_type": "stream",
          "name": "stdout",
          "text": [
            "Sum of square root of 25 and cube root of -8 is close to 3.00030517578125\n"
          ]
        }
      ],
      "source": [
        "x1 = 25 #the input number\n",
        "epsilon = 0.01 #set epsilon to a number close to zero\n",
        "#we want to find the cube root of x1 by using bisection search method\n",
        "if x1 < 0 :\n",
        "    print(\"Does not exist\") # The square root of a negative number doesn't exist\n",
        "else:\n",
        "    low = 0 # set low to 0\n",
        "    high = max(1,x1) # set low to the maximum value in the range of  to the square number\n",
        "    ans = (high+low)/2 # apply bisection method by setting ans(guess) to the avg of high and low\n",
        "    while abs(ans**2-x1) >= epsilon: # The loop runs until the absolute diff is less than epsilon i.e closer to zero than epsilon\n",
        "        if ans**2 < x1 :# if ans**2 is less than the square number then the value lies between ans and the current high. therefore low is set to ans\n",
        "            low = ans\n",
        "        else:\n",
        "            high = ans# if ans**2 is greater than the square number then the value lies between ans and the current low. therefore high is set to ans\n",
        "        ans=(high+low)/2 #Update the value of ans\n",
        "x1_root = ans # store final ans\n",
        "\n",
        "x2 = -8\n",
        "#now we are moving from finding square root to finding the cube root of x2 by still using bisection method\n",
        "if x2 <0 :\n",
        "    is_pos = False #If cube_num is negative then the value is negated to make it positive and the is_pos variable is used to store the status\n",
        "    x2 = -x2\n",
        "else:\n",
        "    is_pos = True\n",
        "low = 0 #set low to zero\n",
        "high = max(1,x2)#set high to the maximum between 1 and the given cube num which is the number by the way\n",
        "ans = (high+low)/2 # Apply biection method by setting ans(guess) to the avg of high and low\n",
        "while abs(ans**3 - x2) >= epsilon : # The loop runs until the absolute diff is less than epsilon i.e closer to zero than epsilon\n",
        "    if ans**3 < x2 : # if ans**3 is less than the cube number then the value lies between ans and the current high. therefore low is set to ans\n",
        "        low = ans\n",
        "    else:\n",
        "        high = ans # if ans**3 is greater than the cube number then the value lies between ans and the current low. therefore high is set to ans\n",
        "    ans = (high + low)/2 # update ans\n",
        "if is_pos: #No changes needed in sign\n",
        "    x2_root = ans\n",
        "else: # Negate the final ans since the cube root of a negative number is negative\n",
        "    x2_root = -ans\n",
        "    x2 = -x2\n",
        "\"\"\" We are also going to sum up all we have been doing i.e we are going to find the sum of the square root and the cube root\n",
        "\"\"\"\n",
        "print(\"Sum of square root of\",x1, \"and cube root of\", x2, \"is close to\" ,x1_root + x2_root)"
      ]
    },
    {
      "cell_type": "code",
      "source": [
        "def find_root(x, power, epsilon):\n",
        "    # find interval containing answer\n",
        "    if x < 0 and power % 2 == 0:\n",
        "        return None  # Negative number has no even-powered roots\n",
        "    low = min(-1, x)\n",
        "    high = max(1, x)\n",
        "    # use bisection search\n",
        "    ans = (high + low) / 2\n",
        "    while abs(ans**power - x) >= epsilon:\n",
        "        if ans**power < x:\n",
        "            low = ans\n",
        "        else:\n",
        "            high = ans\n",
        "        ans = (high + low) / 2\n",
        "    return ans\n",
        "\n",
        "\n",
        "def test_find_root(x_vals, powers, epsilons):\n",
        "    for x in x_vals:\n",
        "        for p in powers:\n",
        "            for e in epsilons:\n",
        "                result = find_root(x, p, e)\n",
        "                if result == None:\n",
        "                    val = 'No root exists'\n",
        "                else:\n",
        "                    val = 'Okay'\n",
        "                    if abs(result**p - x) > e:\n",
        "                        val = 'Bad'\n",
        "                print(f'x = {x}, power = {p}, epsilon = {e}: {val}')\n"
      ],
      "metadata": {
        "id": "V6cMw8uHChaH"
      },
      "execution_count": 4,
      "outputs": []
    },
    {
      "cell_type": "code",
      "source": [
        "x_vals= (0.25, 8, -8)\n",
        "powers= (1,2,3)\n",
        "epsilons= (0.1, 0.001, 1)\n",
        "test_find_root(x_vals, powers, epsilons)"
      ],
      "metadata": {
        "colab": {
          "base_uri": "https://localhost:8080/"
        },
        "id": "5eCxoIEAD34z",
        "outputId": "0c246315-9c5f-40be-e8a3-57f1d91ba49a"
      },
      "execution_count": 5,
      "outputs": [
        {
          "output_type": "stream",
          "name": "stdout",
          "text": [
            "x = 0.25, power = 1, epsilon = 0.1: Okay\n",
            "x = 0.25, power = 1, epsilon = 0.001: Okay\n",
            "x = 0.25, power = 1, epsilon = 1: Okay\n",
            "x = 0.25, power = 2, epsilon = 0.1: Okay\n",
            "x = 0.25, power = 2, epsilon = 0.001: Okay\n",
            "x = 0.25, power = 2, epsilon = 1: Okay\n",
            "x = 0.25, power = 3, epsilon = 0.1: Okay\n",
            "x = 0.25, power = 3, epsilon = 0.001: Okay\n",
            "x = 0.25, power = 3, epsilon = 1: Okay\n",
            "x = 8, power = 1, epsilon = 0.1: Okay\n",
            "x = 8, power = 1, epsilon = 0.001: Okay\n",
            "x = 8, power = 1, epsilon = 1: Okay\n",
            "x = 8, power = 2, epsilon = 0.1: Okay\n",
            "x = 8, power = 2, epsilon = 0.001: Okay\n",
            "x = 8, power = 2, epsilon = 1: Okay\n",
            "x = 8, power = 3, epsilon = 0.1: Okay\n",
            "x = 8, power = 3, epsilon = 0.001: Okay\n",
            "x = 8, power = 3, epsilon = 1: Okay\n",
            "x = -8, power = 1, epsilon = 0.1: Okay\n",
            "x = -8, power = 1, epsilon = 0.001: Okay\n",
            "x = -8, power = 1, epsilon = 1: Okay\n",
            "x = -8, power = 2, epsilon = 0.1: No root exists\n",
            "x = -8, power = 2, epsilon = 0.001: No root exists\n",
            "x = -8, power = 2, epsilon = 1: No root exists\n",
            "x = -8, power = 3, epsilon = 0.1: Okay\n",
            "x = -8, power = 3, epsilon = 0.001: Okay\n",
            "x = -8, power = 3, epsilon = 1: Okay\n"
          ]
        }
      ]
    },
    {
      "cell_type": "code",
      "source": [
        "# # Figure 4-7\n",
        "def find_root(x, power, epsilon):\n",
        "    ## Assumes x and epsilon int or float, power an int,\n",
        "    ## epsilon > 0 & power >= 1\n",
        "    # Returns float y such that y**power is within epsilon of x.\n",
        "    # If such a float does not exist, it returns None\n",
        "    # find interval containing answer\n",
        "    if x < 0 and power % 2 == 0:\n",
        "        return None\n",
        "    low = min(-1, x)\n",
        "    high = max(1, x)\n",
        "    # use bisection search\n",
        "    ans = (high + low) / 2\n",
        "    while abs(ans**power - x) >= epsilon:\n",
        "        if ans**power < x:\n",
        "            low = ans\n",
        "        else:\n",
        "            high = ans\n",
        "        ans = (high + low) / 2\n",
        "    return ans\n"
      ],
      "metadata": {
        "id": "ge3IoYpsD3TN"
      },
      "execution_count": 6,
      "outputs": []
    },
    {
      "cell_type": "code",
      "source": [
        "# Code to test function in Figure 4-7\n",
        "e = 0.001\n",
        "print(find_root(25, 2, e), find_root(-8, 3, e), find_root(14, 4, e))\n"
      ],
      "metadata": {
        "colab": {
          "base_uri": "https://localhost:8080/"
        },
        "id": "WlFibE40Eodp",
        "outputId": "bc5cf988-e5de-4964-e996-e322042ff2d2"
      },
      "execution_count": 7,
      "outputs": [
        {
          "output_type": "stream",
          "name": "stdout",
          "text": [
            "4.9999237060546875 -1.9999542236328125 1.9343223571777344\n"
          ]
        }
      ]
    },
    {
      "cell_type": "code",
      "source": [],
      "metadata": {
        "id": "VilsSLolFkAi"
      },
      "execution_count": 7,
      "outputs": []
    },
    {
      "cell_type": "code",
      "source": [
        "from re import A\n",
        "def find_root_bounds(x, power):\n",
        "  \"\"\"x is a float, power is a pos int\n",
        "    return low, high such that low**power <=x and high**power >= x\"\"\"\n",
        "  low= min(-1, x)\n",
        "  high= max(1, x)\n",
        "  return low, high\n",
        "\n",
        "def bisection_solve(x, power, epsilon, low, high):\n",
        "  \"\"\"x, epsilon, low, high are floats,\n",
        "    epsilon > 0\n",
        "    low<= high and there is an ans between low and high s.t\n",
        "    ans**power is within epsilon of x\n",
        "    return ans s.t. ans** power within epsilon of x\"\"\"\n",
        "  ans = (high+low)/2\n",
        "  while abs(ans**power -  x)>= epsilon:\n",
        "    if ans**power< x:\n",
        "      low= ans\n",
        "    else:\n",
        "      high= ans\n",
        "    ans= (high+low)/2\n",
        "  return ans\n",
        "\n",
        "def find_root(x, power, epsilon):\n",
        "  \"\"\"Assumes  x and epsilon int or float, power an inr,\n",
        "  epsilon>0 7 power >=1\n",
        "  Returns float y such rhat y**power is within epsion of x.\n",
        "  If such a float does not exist, it returns None\"\"\"\n",
        "  if x<0 and power%2==0:\n",
        "    return None\n",
        "  low, high= find_root_bounds(x, power)\n",
        "  return bisection_solve(x, power, epsilon, low, high)"
      ],
      "metadata": {
        "id": "I4gFau3RFQ0-"
      },
      "execution_count": 8,
      "outputs": []
    },
    {
      "cell_type": "code",
      "source": [
        "def fact_iter(n):\n",
        "  \"\"\"Assumes n is an it > 0\n",
        "    Retuens n!\"\"\"\n",
        "  result=1\n",
        "  for i in range(1, n+1):\n",
        "    result *= i\n",
        "  return result\n",
        "\n",
        "# recursive way\n",
        "def fact_rec(n):\n",
        "  \"\"\"Assumes n is an int > 0\n",
        "  Returns n!\"\"\"\n",
        "  if n ==1:\n",
        "    return n\n",
        "  else:\n",
        "    return n*fact_rec(n-1)"
      ],
      "metadata": {
        "id": "ABG1TpLBHnND"
      },
      "execution_count": 9,
      "outputs": []
    },
    {
      "cell_type": "code",
      "source": [
        "def fib(n):\n",
        "  \"\"\"Assumes n is an int >= 0\n",
        "  Returns Fibonacci of n\"\"\"\n",
        "  if n==0 or n==1:\n",
        "    return 1\n",
        "  else:\n",
        "    return fib(n-1)+fib(n-2)\n",
        "\n",
        "def test_fib(n):\n",
        "  for i in range(n+1):\n",
        "    print('fib of', i, '=', fib(i))\n",
        "\n",
        "test_fib(14)"
      ],
      "metadata": {
        "colab": {
          "base_uri": "https://localhost:8080/"
        },
        "id": "mjFeipgvIg_Z",
        "outputId": "cc9cbe12-85e5-49de-ff79-1ef74e92b115"
      },
      "execution_count": 10,
      "outputs": [
        {
          "output_type": "stream",
          "name": "stdout",
          "text": [
            "fib of 0 = 1\n",
            "fib of 1 = 1\n",
            "fib of 2 = 2\n",
            "fib of 3 = 3\n",
            "fib of 4 = 5\n",
            "fib of 5 = 8\n",
            "fib of 6 = 13\n",
            "fib of 7 = 21\n",
            "fib of 8 = 34\n",
            "fib of 9 = 55\n",
            "fib of 10 = 89\n",
            "fib of 11 = 144\n",
            "fib of 12 = 233\n",
            "fib of 13 = 377\n",
            "fib of 14 = 610\n"
          ]
        }
      ]
    },
    {
      "cell_type": "code",
      "source": [
        "def is_palindrome(s):\n",
        "  \"\"\"Assumes s is a str\n",
        "  Returns True if the letters in s form a palindrme; False if oherwise. Non-letters and capitalization are ignored\"\"\"\n",
        "  def to_chars(s):\n",
        "    s= s.lower()\n",
        "    letters= ''\n",
        "    for c in s:\n",
        "      if c in \"abcdefghijklmnopqrstuvwxyz\":\n",
        "        letters= letters+c\n",
        "    return letters\n",
        "  def is_pal(s):\n",
        "    if len(s)<=1:\n",
        "      return True\n",
        "    else:\n",
        "      return s[0]==s[-1] and is_pal(s[1:-1])\n",
        "\n",
        "  return is_pal(to_chars(s))\n",
        "\n",
        "\n",
        "print(is_palindrome('Able was I, ere I saw Elba'))\n",
        "print(is_palindrome('Able was I, ere I saw Atlanta'))\n"
      ],
      "metadata": {
        "colab": {
          "base_uri": "https://localhost:8080/"
        },
        "id": "N8ET-uxUIywc",
        "outputId": "d966ae28-b717-44f7-bd69-af401e84a0e2"
      },
      "execution_count": 12,
      "outputs": [
        {
          "output_type": "stream",
          "name": "stdout",
          "text": [
            "True\n",
            "False\n"
          ]
        }
      ]
    },
    {
      "cell_type": "code",
      "source": [],
      "metadata": {
        "id": "S07VWfErJncX"
      },
      "execution_count": 11,
      "outputs": []
    }
  ]
}