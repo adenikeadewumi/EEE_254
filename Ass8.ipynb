{
  "nbformat": 4,
  "nbformat_minor": 0,
  "metadata": {
    "colab": {
      "provenance": [],
      "authorship_tag": "ABX9TyPdTNOelf1aWGG1NRQiqn0R",
      "include_colab_link": true
    },
    "kernelspec": {
      "name": "python3",
      "display_name": "Python 3"
    },
    "language_info": {
      "name": "python"
    }
  },
  "cells": [
    {
      "cell_type": "markdown",
      "metadata": {
        "id": "view-in-github",
        "colab_type": "text"
      },
      "source": [
        "<a href=\"https://colab.research.google.com/github/adenikeadewumi/EEE_254/blob/main/Ass8.ipynb\" target=\"_parent\"><img src=\"https://colab.research.google.com/assets/colab-badge.svg\" alt=\"Open In Colab\"/></a>"
      ]
    },
    {
      "cell_type": "markdown",
      "source": [
        "The pascal_triangle0(n,k) failed because the function was calling itself too many times and exceeded the recursion maximum depth."
      ],
      "metadata": {
        "id": "0DKG9aP0atfP"
      }
    },
    {
      "cell_type": "code",
      "source": [
        "## Pascal's triangle\n",
        "def pascal_triangle0(n, k):\n",
        "  \"\"\"Assumes n and k are positive integers\n",
        "  k- num of columns\n",
        "  n- num of rows\n",
        "  returns the values in a row of pascal triangle\"\"\"\n",
        "  if k==1 or k==n:\n",
        "    return 1\n",
        "  else:\n",
        "    return pascal_triangle0(n-1,k-1) +pascal_triangle0(n-1, k)\n",
        "\n",
        "\n",
        "def print_triangle0(num_rows):\n",
        "  \"\"\"Assumes num_rows is a positive integer\n",
        "  print the values in each row in a triangular format\"\"\"\n",
        "  for i in range(num_rows):\n",
        "    #store ans for each row in a list row\n",
        "    row = [pascal_triangle0(i, j) for j in range(i+1)] #i starts from zero so the smallest column we can have is 1\n",
        "    # print the values in a triangular format\n",
        "    print(\" \"*(num_rows-i), *row) # This adds a trailing whitespace before printing the values in the row. *row is used to unpack the list values\n",
        "\n",
        "print_triangle0(10)\n"
      ],
      "metadata": {
        "colab": {
          "base_uri": "https://localhost:8080/",
          "height": 391
        },
        "id": "BnFQRyXHak99",
        "outputId": "4b3927cf-316e-4f5d-a719-cc556bcf5fee"
      },
      "execution_count": null,
      "outputs": [
        {
          "output_type": "stream",
          "name": "stdout",
          "text": [
            "           1\n"
          ]
        },
        {
          "output_type": "error",
          "ename": "RecursionError",
          "evalue": "maximum recursion depth exceeded",
          "traceback": [
            "\u001b[0;31m---------------------------------------------------------------------------\u001b[0m",
            "\u001b[0;31mRecursionError\u001b[0m                            Traceback (most recent call last)",
            "\u001b[0;32m<ipython-input-26-097ffe26282c>\u001b[0m in \u001b[0;36m<cell line: 0>\u001b[0;34m()\u001b[0m\n\u001b[1;32m     20\u001b[0m     \u001b[0mprint\u001b[0m\u001b[0;34m(\u001b[0m\u001b[0;34m\" \"\u001b[0m\u001b[0;34m*\u001b[0m\u001b[0;34m(\u001b[0m\u001b[0mnum_rows\u001b[0m\u001b[0;34m-\u001b[0m\u001b[0mi\u001b[0m\u001b[0;34m)\u001b[0m\u001b[0;34m,\u001b[0m \u001b[0;34m*\u001b[0m\u001b[0mrow\u001b[0m\u001b[0;34m)\u001b[0m \u001b[0;31m# This adds a trailing whitespace before printing the values in the row. *row is used to unpack the list values\u001b[0m\u001b[0;34m\u001b[0m\u001b[0;34m\u001b[0m\u001b[0m\n\u001b[1;32m     21\u001b[0m \u001b[0;34m\u001b[0m\u001b[0m\n\u001b[0;32m---> 22\u001b[0;31m \u001b[0mprint_triangle0\u001b[0m\u001b[0;34m(\u001b[0m\u001b[0;36m10\u001b[0m\u001b[0;34m)\u001b[0m\u001b[0;34m\u001b[0m\u001b[0;34m\u001b[0m\u001b[0m\n\u001b[0m\u001b[1;32m     23\u001b[0m \u001b[0;34m\u001b[0m\u001b[0m\n",
            "\u001b[0;32m<ipython-input-26-097ffe26282c>\u001b[0m in \u001b[0;36mprint_triangle0\u001b[0;34m(num_rows)\u001b[0m\n\u001b[1;32m     16\u001b[0m   \u001b[0;32mfor\u001b[0m \u001b[0mi\u001b[0m \u001b[0;32min\u001b[0m \u001b[0mrange\u001b[0m\u001b[0;34m(\u001b[0m\u001b[0mnum_rows\u001b[0m\u001b[0;34m)\u001b[0m\u001b[0;34m:\u001b[0m\u001b[0;34m\u001b[0m\u001b[0;34m\u001b[0m\u001b[0m\n\u001b[1;32m     17\u001b[0m     \u001b[0;31m#store ans for each row in a list row\u001b[0m\u001b[0;34m\u001b[0m\u001b[0;34m\u001b[0m\u001b[0m\n\u001b[0;32m---> 18\u001b[0;31m     \u001b[0mrow\u001b[0m \u001b[0;34m=\u001b[0m \u001b[0;34m[\u001b[0m\u001b[0mpascal_triangle0\u001b[0m\u001b[0;34m(\u001b[0m\u001b[0mi\u001b[0m\u001b[0;34m,\u001b[0m \u001b[0mj\u001b[0m\u001b[0;34m)\u001b[0m \u001b[0;32mfor\u001b[0m \u001b[0mj\u001b[0m \u001b[0;32min\u001b[0m \u001b[0mrange\u001b[0m\u001b[0;34m(\u001b[0m\u001b[0mi\u001b[0m\u001b[0;34m+\u001b[0m\u001b[0;36m1\u001b[0m\u001b[0;34m)\u001b[0m\u001b[0;34m]\u001b[0m \u001b[0;31m#i starts from zero so the smallest column we can have is 1\u001b[0m\u001b[0;34m\u001b[0m\u001b[0;34m\u001b[0m\u001b[0m\n\u001b[0m\u001b[1;32m     19\u001b[0m     \u001b[0;31m# print the values in a triangular format\u001b[0m\u001b[0;34m\u001b[0m\u001b[0;34m\u001b[0m\u001b[0m\n\u001b[1;32m     20\u001b[0m     \u001b[0mprint\u001b[0m\u001b[0;34m(\u001b[0m\u001b[0;34m\" \"\u001b[0m\u001b[0;34m*\u001b[0m\u001b[0;34m(\u001b[0m\u001b[0mnum_rows\u001b[0m\u001b[0;34m-\u001b[0m\u001b[0mi\u001b[0m\u001b[0;34m)\u001b[0m\u001b[0;34m,\u001b[0m \u001b[0;34m*\u001b[0m\u001b[0mrow\u001b[0m\u001b[0;34m)\u001b[0m \u001b[0;31m# This adds a trailing whitespace before printing the values in the row. *row is used to unpack the list values\u001b[0m\u001b[0;34m\u001b[0m\u001b[0;34m\u001b[0m\u001b[0m\n",
            "\u001b[0;32m<ipython-input-26-097ffe26282c>\u001b[0m in \u001b[0;36m<listcomp>\u001b[0;34m(.0)\u001b[0m\n\u001b[1;32m     16\u001b[0m   \u001b[0;32mfor\u001b[0m \u001b[0mi\u001b[0m \u001b[0;32min\u001b[0m \u001b[0mrange\u001b[0m\u001b[0;34m(\u001b[0m\u001b[0mnum_rows\u001b[0m\u001b[0;34m)\u001b[0m\u001b[0;34m:\u001b[0m\u001b[0;34m\u001b[0m\u001b[0;34m\u001b[0m\u001b[0m\n\u001b[1;32m     17\u001b[0m     \u001b[0;31m#store ans for each row in a list row\u001b[0m\u001b[0;34m\u001b[0m\u001b[0;34m\u001b[0m\u001b[0m\n\u001b[0;32m---> 18\u001b[0;31m     \u001b[0mrow\u001b[0m \u001b[0;34m=\u001b[0m \u001b[0;34m[\u001b[0m\u001b[0mpascal_triangle0\u001b[0m\u001b[0;34m(\u001b[0m\u001b[0mi\u001b[0m\u001b[0;34m,\u001b[0m \u001b[0mj\u001b[0m\u001b[0;34m)\u001b[0m \u001b[0;32mfor\u001b[0m \u001b[0mj\u001b[0m \u001b[0;32min\u001b[0m \u001b[0mrange\u001b[0m\u001b[0;34m(\u001b[0m\u001b[0mi\u001b[0m\u001b[0;34m+\u001b[0m\u001b[0;36m1\u001b[0m\u001b[0;34m)\u001b[0m\u001b[0;34m]\u001b[0m \u001b[0;31m#i starts from zero so the smallest column we can have is 1\u001b[0m\u001b[0;34m\u001b[0m\u001b[0;34m\u001b[0m\u001b[0m\n\u001b[0m\u001b[1;32m     19\u001b[0m     \u001b[0;31m# print the values in a triangular format\u001b[0m\u001b[0;34m\u001b[0m\u001b[0;34m\u001b[0m\u001b[0m\n\u001b[1;32m     20\u001b[0m     \u001b[0mprint\u001b[0m\u001b[0;34m(\u001b[0m\u001b[0;34m\" \"\u001b[0m\u001b[0;34m*\u001b[0m\u001b[0;34m(\u001b[0m\u001b[0mnum_rows\u001b[0m\u001b[0;34m-\u001b[0m\u001b[0mi\u001b[0m\u001b[0;34m)\u001b[0m\u001b[0;34m,\u001b[0m \u001b[0;34m*\u001b[0m\u001b[0mrow\u001b[0m\u001b[0;34m)\u001b[0m \u001b[0;31m# This adds a trailing whitespace before printing the values in the row. *row is used to unpack the list values\u001b[0m\u001b[0;34m\u001b[0m\u001b[0;34m\u001b[0m\u001b[0m\n",
            "\u001b[0;32m<ipython-input-26-097ffe26282c>\u001b[0m in \u001b[0;36mpascal_triangle0\u001b[0;34m(n, k)\u001b[0m\n\u001b[1;32m      8\u001b[0m     \u001b[0;32mreturn\u001b[0m \u001b[0;36m1\u001b[0m\u001b[0;34m\u001b[0m\u001b[0;34m\u001b[0m\u001b[0m\n\u001b[1;32m      9\u001b[0m   \u001b[0;32melse\u001b[0m\u001b[0;34m:\u001b[0m\u001b[0;34m\u001b[0m\u001b[0;34m\u001b[0m\u001b[0m\n\u001b[0;32m---> 10\u001b[0;31m     \u001b[0;32mreturn\u001b[0m \u001b[0mpascal_triangle0\u001b[0m\u001b[0;34m(\u001b[0m\u001b[0mn\u001b[0m\u001b[0;34m-\u001b[0m\u001b[0;36m1\u001b[0m\u001b[0;34m,\u001b[0m\u001b[0mk\u001b[0m\u001b[0;34m-\u001b[0m\u001b[0;36m1\u001b[0m\u001b[0;34m)\u001b[0m \u001b[0;34m+\u001b[0m\u001b[0mpascal_triangle0\u001b[0m\u001b[0;34m(\u001b[0m\u001b[0mn\u001b[0m\u001b[0;34m-\u001b[0m\u001b[0;36m1\u001b[0m\u001b[0;34m,\u001b[0m \u001b[0mk\u001b[0m\u001b[0;34m)\u001b[0m\u001b[0;34m\u001b[0m\u001b[0;34m\u001b[0m\u001b[0m\n\u001b[0m\u001b[1;32m     11\u001b[0m \u001b[0;34m\u001b[0m\u001b[0m\n\u001b[1;32m     12\u001b[0m \u001b[0;34m\u001b[0m\u001b[0m\n",
            "... last 1 frames repeated, from the frame below ...\n",
            "\u001b[0;32m<ipython-input-26-097ffe26282c>\u001b[0m in \u001b[0;36mpascal_triangle0\u001b[0;34m(n, k)\u001b[0m\n\u001b[1;32m      8\u001b[0m     \u001b[0;32mreturn\u001b[0m \u001b[0;36m1\u001b[0m\u001b[0;34m\u001b[0m\u001b[0;34m\u001b[0m\u001b[0m\n\u001b[1;32m      9\u001b[0m   \u001b[0;32melse\u001b[0m\u001b[0;34m:\u001b[0m\u001b[0;34m\u001b[0m\u001b[0;34m\u001b[0m\u001b[0m\n\u001b[0;32m---> 10\u001b[0;31m     \u001b[0;32mreturn\u001b[0m \u001b[0mpascal_triangle0\u001b[0m\u001b[0;34m(\u001b[0m\u001b[0mn\u001b[0m\u001b[0;34m-\u001b[0m\u001b[0;36m1\u001b[0m\u001b[0;34m,\u001b[0m\u001b[0mk\u001b[0m\u001b[0;34m-\u001b[0m\u001b[0;36m1\u001b[0m\u001b[0;34m)\u001b[0m \u001b[0;34m+\u001b[0m\u001b[0mpascal_triangle0\u001b[0m\u001b[0;34m(\u001b[0m\u001b[0mn\u001b[0m\u001b[0;34m-\u001b[0m\u001b[0;36m1\u001b[0m\u001b[0;34m,\u001b[0m \u001b[0mk\u001b[0m\u001b[0;34m)\u001b[0m\u001b[0;34m\u001b[0m\u001b[0;34m\u001b[0m\u001b[0m\n\u001b[0m\u001b[1;32m     11\u001b[0m \u001b[0;34m\u001b[0m\u001b[0m\n\u001b[1;32m     12\u001b[0m \u001b[0;34m\u001b[0m\u001b[0m\n",
            "\u001b[0;31mRecursionError\u001b[0m: maximum recursion depth exceeded"
          ]
        }
      ]
    },
    {
      "cell_type": "markdown",
      "source": [
        "\n",
        "*   This utilizes the memoization method\n",
        "*   Memoization is a programming optimization technique where the results of expensive function calls are stored and reused to avoid redundant calculations when the same inputs are encountered again."
      ],
      "metadata": {
        "id": "Wg4EcExobfg3"
      }
    },
    {
      "cell_type": "code",
      "execution_count": null,
      "metadata": {
        "id": "Awf6EJh_ZN8B"
      },
      "outputs": [],
      "source": [
        "\n",
        "#define function to print triangle\n",
        "def pascal_triangle(n, k, memo={}):\n",
        "    \"\"\"Assumes n and k are positive integers\n",
        "  k- num of columns\n",
        "  n- num of rows\n",
        "  returns the values in a row of pascal triangle\"\"\"\n",
        "    # Base case\n",
        "    if k == 0 or k == n:\n",
        "        return 1\n",
        "    if (n, k) in memo: #This is used to prevent redundancy\n",
        "        return memo[(n, k)]\n",
        "\n",
        "    # Recursive case with memoization\n",
        "    memo[(n, k)] = pascal_triangle(n - 1, k - 1, memo) + pascal_triangle(n - 1, k, memo) #Performed operations are stored in the memo dictionary to keep track of performed operations and prevent redundancy\n",
        "    return memo[(n, k)]\n"
      ]
    },
    {
      "cell_type": "markdown",
      "source": [
        "Print the triangle"
      ],
      "metadata": {
        "id": "ExPHlNekbtJ0"
      }
    },
    {
      "cell_type": "code",
      "source": [
        "\n",
        "def print_triangle(num_rows):\n",
        "  \"\"\"Assumes num_rows is a positive integer\n",
        "  print the values in each row in a triangular format\"\"\"\n",
        "  for i in range(num_rows):\n",
        "    #store ans for each row in a list row\n",
        "    row = [pascal_triangle(i, j) for j in range(i+1)] #i starts from zero so the smallest column we can have is 1\n",
        "    # print the values in a triangular format\n",
        "    print(\" \"*(num_rows-i), *row) # This adds a trailing whitespace before printing the values in the row. *row is used to unpack the list values\n"
      ],
      "metadata": {
        "id": "xOXFKBYMbq8u"
      },
      "execution_count": null,
      "outputs": []
    },
    {
      "cell_type": "code",
      "source": [
        "print_triangle(10)"
      ],
      "metadata": {
        "colab": {
          "base_uri": "https://localhost:8080/"
        },
        "id": "lQ73RWAJZPV1",
        "outputId": "2347adac-e28f-432c-db8b-11351aa20b65"
      },
      "execution_count": null,
      "outputs": [
        {
          "output_type": "stream",
          "name": "stdout",
          "text": [
            "           1\n",
            "          1 1\n",
            "         1 2 1\n",
            "        1 3 3 1\n",
            "       1 4 6 4 1\n",
            "      1 5 10 10 5 1\n",
            "     1 6 15 20 15 6 1\n",
            "    1 7 21 35 35 21 7 1\n",
            "   1 8 28 56 70 56 28 8 1\n",
            "  1 9 36 84 126 126 84 36 9 1\n"
          ]
        }
      ]
    },
    {
      "cell_type": "markdown",
      "source": [
        "Check whether a string of words is palindrome\n",
        "A palindrome is a word, phrase, name, or number that reads the same forward or backward (e.g., noon, 1001)."
      ],
      "metadata": {
        "id": "f5G__nhlCH7L"
      }
    },
    {
      "cell_type": "code",
      "source": [
        "def reverse_word(word):\n",
        "    word = word.replace(\" \", \"\")  # Optional: remove spaces\n",
        "    if len(word) == 1:\n",
        "        return word\n",
        "    else:\n",
        "        return word[-1] + reverse_word(word[:-1])\n",
        "\n",
        "\n",
        "def is_palindrome(word):\n",
        "  word= word.replace(\" \", \"\")\n",
        "  if word== reverse_word(word):\n",
        "    return True\n",
        "  else:\n",
        "    return False\n"
      ],
      "metadata": {
        "id": "JDxnpoeuZSnL"
      },
      "execution_count": 76,
      "outputs": []
    },
    {
      "cell_type": "code",
      "source": [
        "is_palindrome(\"10001\")"
      ],
      "metadata": {
        "id": "KDvQHSZ1EKRh",
        "outputId": "8c2f1369-1bc4-468e-8994-8185d17cfb4e",
        "colab": {
          "base_uri": "https://localhost:8080/"
        }
      },
      "execution_count": 77,
      "outputs": [
        {
          "output_type": "execute_result",
          "data": {
            "text/plain": [
              "True"
            ]
          },
          "metadata": {},
          "execution_count": 77
        }
      ]
    },
    {
      "cell_type": "code",
      "source": [
        "def check_palindrome(word):\n",
        "  if len(word) <= 1:\n",
        "    return True\n",
        "  if word[0] != word[-1]:\n",
        "    return False\n",
        "  return check_palindrome(word[1:-1])"
      ],
      "metadata": {
        "id": "ySkAQaa_QDzl"
      },
      "execution_count": 70,
      "outputs": []
    },
    {
      "cell_type": "code",
      "source": [
        "check_palindrome(\"raoar\")"
      ],
      "metadata": {
        "id": "utBWZUA5Ei63",
        "outputId": "3ab310b2-b2e9-481c-9e43-4b085290ec07",
        "colab": {
          "base_uri": "https://localhost:8080/"
        }
      },
      "execution_count": 75,
      "outputs": [
        {
          "output_type": "execute_result",
          "data": {
            "text/plain": [
              "True"
            ]
          },
          "metadata": {},
          "execution_count": 75
        }
      ]
    },
    {
      "cell_type": "code",
      "source": [],
      "metadata": {
        "id": "uJeFwXtCQuzy"
      },
      "execution_count": null,
      "outputs": []
    }
  ]
}