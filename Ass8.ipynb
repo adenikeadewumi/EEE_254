{
  "nbformat": 4,
  "nbformat_minor": 0,
  "metadata": {
    "colab": {
      "provenance": [],
      "authorship_tag": "ABX9TyMUEL16SyVQLf7M2HJeCMXs",
      "include_colab_link": true
    },
    "kernelspec": {
      "name": "python3",
      "display_name": "Python 3"
    },
    "language_info": {
      "name": "python"
    }
  },
  "cells": [
    {
      "cell_type": "markdown",
      "metadata": {
        "id": "view-in-github",
        "colab_type": "text"
      },
      "source": [
        "<a href=\"https://colab.research.google.com/github/adenikeadewumi/EEE_254/blob/main/Ass8.ipynb\" target=\"_parent\"><img src=\"https://colab.research.google.com/assets/colab-badge.svg\" alt=\"Open In Colab\"/></a>"
      ]
    },
    {
      "cell_type": "markdown",
      "source": [
        "The pascal_triangle1(n,k) failed because the function was calling itself too many times and exceeded the recursion maximum depth."
      ],
      "metadata": {
        "id": "0DKG9aP0atfP"
      }
    },
    {
      "cell_type": "code",
      "source": [
        "## Pascal's triangle\n",
        "def pascal_triangle1(n, k):\n",
        "  \"\"\"Assumes n and k are positive integers\n",
        "  k- num of columns\n",
        "  n- num of rows\n",
        "  returns the values in a row of pascal triangle\"\"\"\n",
        "  if k==1 or k==n:\n",
        "    return 1\n",
        "  else:\n",
        "    return pascal_triangle1(n-1,k-1) +pascal_triangle1(n-1, k)"
      ],
      "metadata": {
        "id": "BnFQRyXHak99"
      },
      "execution_count": 8,
      "outputs": []
    },
    {
      "cell_type": "markdown",
      "source": [
        "\n",
        "*   This utilizes the memoization method\n",
        "*   Memoization is a programming optimization technique where the results of expensive function calls are stored and reused to avoid redundant calculations when the same inputs are encountered again."
      ],
      "metadata": {
        "id": "Wg4EcExobfg3"
      }
    },
    {
      "cell_type": "code",
      "execution_count": 11,
      "metadata": {
        "id": "Awf6EJh_ZN8B"
      },
      "outputs": [],
      "source": [
        "\n",
        "#define function to print triangle\n",
        "def pascal_triangle(n, k, memo={}):\n",
        "    # Base case\n",
        "    if k == 0 or k == n:\n",
        "        return 1\n",
        "    if (n, k) in memo:\n",
        "        return memo[(n, k)]\n",
        "\n",
        "    # Recursive case with memoization\n",
        "    memo[(n, k)] = pascal_triangle(n - 1, k - 1, memo) + pascal_triangle(n - 1, k, memo)\n",
        "    return memo[(n, k)]\n"
      ]
    },
    {
      "cell_type": "markdown",
      "source": [
        "Print the triangle"
      ],
      "metadata": {
        "id": "ExPHlNekbtJ0"
      }
    },
    {
      "cell_type": "code",
      "source": [
        "\n",
        "def print_triangle(num_rows):\n",
        "  \"\"\"Assumes num_rows is a positive integer\"\"\"\n",
        "  for i in range(num_rows):\n",
        "    #store ans for each row in a list row\n",
        "    row = [pascal_triangle(i, j) for j in range(i+1)] #i starts from zero so the smallest column we can have is 1\n",
        "    # print the values in a triangular format\n",
        "    print(\" \"*(num_rows-i), *row) # This adds a trailing whitespace before printing the values in the row. *row is used to unpack the list values\n",
        ""
      ],
      "metadata": {
        "id": "xOXFKBYMbq8u"
      },
      "execution_count": 14,
      "outputs": []
    },
    {
      "cell_type": "code",
      "source": [
        "print_triangle(10)"
      ],
      "metadata": {
        "colab": {
          "base_uri": "https://localhost:8080/"
        },
        "id": "lQ73RWAJZPV1",
        "outputId": "ce89eea6-dc0b-4084-dc61-592a17d23137"
      },
      "execution_count": 17,
      "outputs": [
        {
          "output_type": "stream",
          "name": "stdout",
          "text": [
            "           1\n",
            "          1 1\n",
            "         1 2 1\n",
            "        1 3 3 1\n",
            "       1 4 6 4 1\n",
            "      1 5 10 10 5 1\n",
            "     1 6 15 20 15 6 1\n",
            "    1 7 21 35 35 21 7 1\n",
            "   1 8 28 56 70 56 28 8 1\n",
            "  1 9 36 84 126 126 84 36 9 1\n"
          ]
        }
      ]
    },
    {
      "cell_type": "code",
      "source": [],
      "metadata": {
        "id": "JDxnpoeuZSnL"
      },
      "execution_count": null,
      "outputs": []
    }
  ]
}