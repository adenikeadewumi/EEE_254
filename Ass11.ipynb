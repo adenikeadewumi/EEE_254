{
  "nbformat": 4,
  "nbformat_minor": 0,
  "metadata": {
    "colab": {
      "provenance": [],
      "authorship_tag": "ABX9TyMyxM9LLohd2nmmtKend2mG",
      "include_colab_link": true
    },
    "kernelspec": {
      "name": "python3",
      "display_name": "Python 3"
    },
    "language_info": {
      "name": "python"
    }
  },
  "cells": [
    {
      "cell_type": "markdown",
      "metadata": {
        "id": "view-in-github",
        "colab_type": "text"
      },
      "source": [
        "<a href=\"https://colab.research.google.com/github/adenikeadewumi/EEE_254/blob/main/Ass11.ipynb\" target=\"_parent\"><img src=\"https://colab.research.google.com/assets/colab-badge.svg\" alt=\"Open In Colab\"/></a>"
      ]
    },
    {
      "cell_type": "markdown",
      "source": [
        "STRUCTURED TYPES"
      ],
      "metadata": {
        "id": "7IW2f6_AKJRX"
      }
    },
    {
      "cell_type": "markdown",
      "source": [
        "Mutable data types: This refers to data types whose elements can be changed after it has been created\n",
        "\n",
        "\n",
        "We have three typres of mutable data types in python. List, Dictionary; and sets"
      ],
      "metadata": {
        "id": "jktbzlTXKMiD"
      }
    },
    {
      "cell_type": "markdown",
      "source": [
        "Lists"
      ],
      "metadata": {
        "id": "ezfBShwfKYij"
      }
    },
    {
      "cell_type": "code",
      "execution_count": 11,
      "metadata": {
        "colab": {
          "base_uri": "https://localhost:8080/"
        },
        "id": "i2oJQMqSKB6B",
        "outputId": "60b5e487-8cb2-4106-d847-f49a27557cb1"
      },
      "outputs": [
        {
          "output_type": "stream",
          "name": "stdout",
          "text": [
            "The length of [1, 2, 3, 4, 5, 6, 7, 8, 9, 10] is 10\n",
            "The sum of elements in [1, 2, 3, 4, 5, 6, 7, 8, 9, 10] is 55\n",
            "Mean is 5.5\n",
            "\n",
            "List1 when list2 was appended without iterating through is : [2, 4, 6, 8, 10, [1, 3, 5, 7, 9]]\n",
            "\n",
            "List1 when list2 was appended by iterating through is : [2, 4, 6, 8, 10, 1, 3, 5, 7, 9]\n",
            "\n",
            "List1 when list2 was added to it by using the extend() function : [2, 4, 6, 8, 10, 1, 3, 5, 7, 9]\n"
          ]
        }
      ],
      "source": [
        "# I will use the list below to show the operations possible with a list\n",
        "mylist= [1,2,3,4,5,6,7,8, 9,10]\n",
        "lenght_of_list= len(mylist)\n",
        "sum_of_list_elements= sum(mylist) # This only works when the elements of the list are numeric\n",
        "# we can use the length and sum of the list to get the mean of the list\n",
        "mean_of_list= sum_of_list_elements/lenght_of_list\n",
        "print(f\"The length of {mylist} is {lenght_of_list}\")\n",
        "print(f\"The sum of elements in {mylist} is {sum_of_list_elements}\")\n",
        "print(f\"Mean is {mean_of_list}\")\n",
        "\n",
        "\n",
        "# List methods\n",
        "# We have the append(), extend(), pop(), remove() ....\n",
        "# Usage of some of the methods is shown below\n",
        "list1= [2,4,6,8,10]\n",
        "list2= [1,3,5,7,9]\n",
        "\n",
        "list1.append(list2) # This treats the list2 as a single element\n",
        "print() #For readability\n",
        "print(f\"List1 when list2 was appended without iterating through is : {list1}\")\n",
        "# To add each element of the list2 to list1 we have to iterate through iist2 using for loop\n",
        "# We have to redefine the list variables because the append() method has mutated the list\n",
        "list1= [2,4,6,8,10]\n",
        "for element in list2:\n",
        "    list1.append(element)\n",
        "print()\n",
        "print(f\"List1 when list2 was appended by iterating through is : {list1}\")\n",
        "\n",
        "# Again we have to redefine the list variables because the append() method has mutated the list\n",
        "list1= [2,4,6,8,10]\n",
        "#Extend(): This adds every element of list2 to list1  without the need of iteration\n",
        "list1.extend(list2)\n",
        "print()\n",
        "print(f\"List1 when list2 was added to it by using the extend() function : {list1}\")\n",
        "\n",
        "\n",
        "#Note: we have other methods that can be used on a list"
      ]
    },
    {
      "cell_type": "markdown",
      "source": [
        "Dictionary"
      ],
      "metadata": {
        "id": "34wJJSXxKeMR"
      }
    },
    {
      "cell_type": "code",
      "source": [
        "# I will use the dictionary below to show the operations possible with a dictionary\n",
        "mydict = {\"name\": \"Johnson\", \"age\": 35, \"location\": \"Nigeria\"}\n",
        "\n",
        "# Dictionary methods and operations\n",
        "keys = mydict.keys()\n",
        "values = mydict.values()\n",
        "items = mydict.items()\n",
        "length = len(mydict)\n",
        "\n",
        "print(f\"Keys in the dictionary: {keys}\")\n",
        "print(f\"Values in the dictionary: {values}\")\n",
        "print(f\"Key-value pairs: {items}\")\n",
        "print(f\"Number of key-value pairs: {length}\")\n",
        "\n",
        "# Adding a new key-value pair\n",
        "mydict[\"school\"] = \"OAU\"\n",
        "print()\n",
        "print(\"After adding a new key-value pair:\", mydict)\n",
        "\n",
        "# Updating a value\n",
        "mydict[\"age\"] = 19\n",
        "print(\"After updating age:\", mydict)\n",
        "\n",
        "# Removing a key-value pair using pop()\n",
        "removed = mydict.pop(\"location\")\n",
        "print(f\"Removed 'location' with value '{removed}': {mydict}\")\n",
        "\n",
        "# Using update() to add multiple key-value pairs\n",
        "mydict.update({\"department\": \"EEE\", \"level\": 200})\n",
        "print(\"After using update():\", mydict)\n"
      ],
      "metadata": {
        "colab": {
          "base_uri": "https://localhost:8080/"
        },
        "id": "T6JI8SWzKZtZ",
        "outputId": "087be596-785e-4039-dc6b-93c55bc8a643"
      },
      "execution_count": 12,
      "outputs": [
        {
          "output_type": "stream",
          "name": "stdout",
          "text": [
            "Keys in the dictionary: dict_keys(['name', 'age', 'location'])\n",
            "Values in the dictionary: dict_values(['Johnson', 35, 'Nigeria'])\n",
            "Key-value pairs: dict_items([('name', 'Johnson'), ('age', 35), ('location', 'Nigeria')])\n",
            "Number of key-value pairs: 3\n",
            "\n",
            "After adding a new key-value pair: {'name': 'Johnson', 'age': 35, 'location': 'Nigeria', 'school': 'OAU'}\n",
            "After updating age: {'name': 'Johnson', 'age': 19, 'location': 'Nigeria', 'school': 'OAU'}\n",
            "Removed 'location' with value 'Nigeria': {'name': 'Johnson', 'age': 19, 'school': 'OAU'}\n",
            "After using update(): {'name': 'Johnson', 'age': 19, 'school': 'OAU', 'department': 'EEE', 'level': 200}\n"
          ]
        }
      ]
    },
    {
      "cell_type": "markdown",
      "source": [
        "Sets"
      ],
      "metadata": {
        "id": "tDe_pifFKnt_"
      }
    },
    {
      "cell_type": "code",
      "source": [
        "# I will use the set below to show the operations possible with a set\n",
        "set1 = {1, 2, 3, 4, 5}\n",
        "set2 = {4, 5, 6, 7, 8}\n",
        "\n",
        "# Basic set operations\n",
        "print(f\"Original set: {set1}\")\n",
        "print(f\"Another set: {set2}\")\n",
        "\n",
        "# Add an element\n",
        "set1.add(6)\n",
        "print(\"After adding 6:\", set1)\n",
        "\n",
        "# Remove an element\n",
        "set1.remove(1)  # If the element doesn't exist, it raises an error\n",
        "print(\"After removing 1:\", myset)\n",
        "\n",
        "# Discard an element (won't raise an error if element is absent)\n",
        "set1.discard(100)\n",
        "print(\"After discarding 100 (which doesn't exist):\", set1)\n",
        "\n",
        "# Union of sets\n",
        "print(\"Union:\", set2.union(set2))\n",
        "\n",
        "# Intersection of sets\n",
        "print(\"Intersection:\", set1.intersection(set2))\n",
        "\n",
        "# Difference between sets\n",
        "print(\"Difference i.e elements in set1 that are not present in set2:\", set1.difference(set2))"
      ],
      "metadata": {
        "colab": {
          "base_uri": "https://localhost:8080/"
        },
        "id": "AIG0jatWKjMJ",
        "outputId": "4d29c261-8c7e-4918-f2e6-86c6b53ae19c"
      },
      "execution_count": 13,
      "outputs": [
        {
          "output_type": "stream",
          "name": "stdout",
          "text": [
            "Original set: {1, 2, 3, 4, 5}\n",
            "Another set: {4, 5, 6, 7, 8}\n",
            "After adding 6: {1, 2, 3, 4, 5, 6}\n",
            "After removing 1: {2, 3, 4, 5, 6}\n",
            "After discarding 100 (which doesn't exist): {2, 3, 4, 5, 6}\n",
            "Union: {4, 5, 6, 7, 8}\n",
            "Intersection: {4, 5, 6}\n",
            "Difference i.e elements in set1 that are not present in set2: {2, 3}\n"
          ]
        }
      ]
    },
    {
      "cell_type": "markdown",
      "source": [
        "Immutability\n",
        "\n",
        "This refers to data types whose elements can't be changed once they have been defined. We have strings, tuples and range"
      ],
      "metadata": {
        "id": "pIHcRTRZKsGk"
      }
    },
    {
      "cell_type": "markdown",
      "source": [
        "Tuples"
      ],
      "metadata": {
        "id": "C_S1M1-UKztM"
      }
    },
    {
      "cell_type": "code",
      "source": [
        "# I will use the tuple below to show some operations possible with a tuple\n",
        "mytuple = (1, 2, 3, 4, 5)\n",
        "\n",
        "# Length of the tuple\n",
        "length = len(mytuple)\n",
        "print(f\"Length of {mytuple} is {length}\")\n",
        "\n",
        "# Accessing elements\n",
        "print(f\"The first element is {mytuple[0]}\")\n",
        "print(f\"The last element is {mytuple[-1]}\")\n",
        "\n",
        "# Slicing\n",
        "print(f\"Elements from index 1 to 3: {mytuple[1:4]}\")\n",
        "\n",
        "# Count and index methods\n",
        "print(f\"Number of times 3 appears: {mytuple.count(3)}\")\n",
        "print(f\"Index of element 4: {mytuple.index(4)}\")\n",
        "\n",
        "# Tuples are immutable, the following will raise an error\n",
        "# mytuple[0] = 10  #  This raises a TypeError: 'tuple' object does not support item assignment\n"
      ],
      "metadata": {
        "id": "wPgX6TTFKrHl",
        "outputId": "fb2d48a3-3680-42e0-83a6-de679836175b",
        "colab": {
          "base_uri": "https://localhost:8080/"
        }
      },
      "execution_count": 14,
      "outputs": [
        {
          "output_type": "stream",
          "name": "stdout",
          "text": [
            "Length of (1, 2, 3, 4, 5) is 5\n",
            "The first element is 1\n",
            "The last element is 5\n",
            "Elements from index 1 to 3: (2, 3, 4)\n",
            "Number of times 3 appears: 1\n",
            "Index of element 4: 3\n"
          ]
        }
      ]
    },
    {
      "cell_type": "markdown",
      "source": [
        "Strings"
      ],
      "metadata": {
        "id": "na5ExRBDK5zy"
      }
    },
    {
      "cell_type": "code",
      "source": [
        "# I will use the string below to show string operations\n",
        "mystring = \"Adenike\"\n",
        "\n",
        "# Length of the string\n",
        "print(f\"Length of '{mystring}' is {len(mystring)}\")\n",
        "\n",
        "# Accessing characters. This is done by indexing or slicing\n",
        "print() # for readability\n",
        "print(f\"First letter: {mystring[0]}\")\n",
        "print(f\"Last letter: {mystring[-1]}\")\n",
        "\n",
        "# Slicing\n",
        "print()\n",
        "print(f\"Elements from index 1 to 3: {mystring[1:4]}\")\n",
        "print(f\"First three letters: {mystring[:3]}\")\n",
        "\n",
        "# String methods\n",
        "print()\n",
        "print(\"Uppercase:\", mystring.upper())\n",
        "print(\"Lowercase: \", mystring.lower())\n",
        "# The upper() and lower() methods do not mutate a string. Therefore the string stored in mystring is still the same\n",
        "print()\n",
        "print(\"String after lower() and upper() is: \", mystring)\n",
        "print(\"Replaced 'e' with 'a':\", mystring.replace('e', 'a'))\n",
        "\n",
        "# Strings are immutable, so this will also raise an error:\n",
        "# mystring[0] = 'B'  #  This also raises a TypeError: 'str' object does not support item assignment\n"
      ],
      "metadata": {
        "id": "gCWUlw-fK66S",
        "outputId": "3d0eb4b4-bc21-422f-c969-e32e2d07a34f",
        "colab": {
          "base_uri": "https://localhost:8080/"
        }
      },
      "execution_count": 15,
      "outputs": [
        {
          "output_type": "stream",
          "name": "stdout",
          "text": [
            "Length of 'Adenike' is 7\n",
            "\n",
            "First letter: A\n",
            "Last letter: e\n",
            "\n",
            "Elements from index 1 to 3: den\n",
            "First three letters: Ade\n",
            "\n",
            "Uppercase: ADENIKE\n",
            "Lowercase:  adenike\n",
            "\n",
            "String after lower() and upper() is:  Adenike\n",
            "Replaced 'e' with 'a': Adanika\n"
          ]
        }
      ]
    },
    {
      "cell_type": "code",
      "source": [],
      "metadata": {
        "id": "6rD4-SPkK8fF"
      },
      "execution_count": 15,
      "outputs": []
    }
  ]
}