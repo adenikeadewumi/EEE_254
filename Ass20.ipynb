{
  "nbformat": 4,
  "nbformat_minor": 0,
  "metadata": {
    "colab": {
      "provenance": [],
      "authorship_tag": "ABX9TyNWH6s1iZCxXKXQdOuEkFao",
      "include_colab_link": true
    },
    "kernelspec": {
      "name": "python3",
      "display_name": "Python 3"
    },
    "language_info": {
      "name": "python"
    }
  },
  "cells": [
    {
      "cell_type": "markdown",
      "metadata": {
        "id": "view-in-github",
        "colab_type": "text"
      },
      "source": [
        "<a href=\"https://colab.research.google.com/github/adenikeadewumi/EEE_254/blob/main/Ass20.ipynb\" target=\"_parent\"><img src=\"https://colab.research.google.com/assets/colab-badge.svg\" alt=\"Open In Colab\"/></a>"
      ]
    },
    {
      "cell_type": "markdown",
      "source": [
        "O(1)- This is the constant time complexity. It's doesn't depend on the size of the code. It takes the same time to run regardless of how big the input is"
      ],
      "metadata": {
        "id": "u-DnSHSJ4h_0"
      }
    },
    {
      "cell_type": "code",
      "execution_count": 7,
      "metadata": {
        "colab": {
          "base_uri": "https://localhost:8080/"
        },
        "id": "zd87Vjf31voE",
        "outputId": "1dabb7b3-21f2-431e-f17f-f82fe5c04b01"
      },
      "outputs": [
        {
          "output_type": "stream",
          "name": "stdout",
          "text": [
            "Enter your input: 9\n",
            "The square of 0 is 0\n",
            "The square of 7 is 49\n",
            "The square of 3 is 9\n",
            "The square of 4 is 16\n",
            "The square of 8 is 64\n",
            "The square of 5 is 25\n",
            "The square of 9 is 81\n",
            "The square of 2 is 4\n",
            "The square of 4 is 16\n",
            "The square of 0 is 0\n"
          ]
        }
      ],
      "source": [
        "# Code illustration\n",
        "import random\n",
        "\n",
        "n= int(input(\"Enter your input: \"))\n",
        "for i in range(10):\n",
        "  random_number= random.randint(0,n)\n",
        "  squared_num= random_number**2\n",
        "  print(f'The square of {random_number} is {squared_num}')\n"
      ]
    },
    {
      "cell_type": "markdown",
      "source": [
        "O(logn)- An example of this is the bisection method"
      ],
      "metadata": {
        "id": "NsrnoO1k7dk1"
      }
    },
    {
      "cell_type": "code",
      "source": [
        "# Binary search\n",
        "def binary_search(array, target):\n",
        "  x= len(array)\n",
        "  low= 0\n",
        "  high= max(0, x)\n",
        "  guess= (low+ high)//2\n",
        "\n",
        "  while guess != array.index(target):\n",
        "    if guess < array.index(target):\n",
        "      low= guess\n",
        "    else:\n",
        "      high= guess\n",
        "    #Update the guess\n",
        "    guess= (low+ high)//2\n",
        "  return guess\n",
        "\n",
        "\n",
        "target= 3\n",
        "myarray= [2, 5, 6,7, 8,10,3,6]\n",
        "target_location= binary_search(myarray, target)\n",
        "print(f'The target is at index {target_location}')\n",
        "print(f\"The target is the {target_location +1} th/nd/rd/st element\")\n"
      ],
      "metadata": {
        "colab": {
          "base_uri": "https://localhost:8080/"
        },
        "id": "Mjw9RQQE45DP",
        "outputId": "280db353-a852-40b2-ba47-a4efdc6a038b"
      },
      "execution_count": 11,
      "outputs": [
        {
          "output_type": "stream",
          "name": "stdout",
          "text": [
            "The target is at index 6\n",
            "The target is the 7 th/nd/rd/st element\n"
          ]
        }
      ]
    },
    {
      "cell_type": "markdown",
      "source": [
        "O(n) complexity"
      ],
      "metadata": {
        "id": "9XQwdFVG_HuK"
      }
    },
    {
      "cell_type": "code",
      "source": [
        "n= int(input(\"Enter size of input: \"))\n",
        "# Initialize the sum to zero\n",
        "sum= 0\n",
        "for i in range(1, n+1):\n",
        "  sum+= i\n",
        "  print(f\"The sum so far is {sum}\")"
      ],
      "metadata": {
        "colab": {
          "base_uri": "https://localhost:8080/"
        },
        "id": "vSmXm-1z-qBg",
        "outputId": "1021b858-2b85-4451-96b2-0ce07e03806b"
      },
      "execution_count": 14,
      "outputs": [
        {
          "output_type": "stream",
          "name": "stdout",
          "text": [
            "Enter size of input: 10\n",
            "The sum so far is 1\n",
            "The sum so far is 3\n",
            "The sum so far is 6\n",
            "The sum so far is 10\n",
            "The sum so far is 15\n",
            "The sum so far is 21\n",
            "The sum so far is 28\n",
            "The sum so far is 36\n",
            "The sum so far is 45\n",
            "The sum so far is 55\n"
          ]
        }
      ]
    },
    {
      "cell_type": "markdown",
      "source": [
        "O(nlogn)"
      ],
      "metadata": {
        "id": "TFy_TbtI__VE"
      }
    },
    {
      "cell_type": "code",
      "source": [
        "n= int(input(\"Enter input size: \"))\n",
        "\n",
        "# This code uses bisection method to find the square root each number in a range of values n\n",
        "\n",
        "# define function to find the square root\n",
        "def square_root(num):\n",
        "  epsilon= 0.001\n",
        "  low= 0\n",
        "  high= num\n",
        "  guess= (low+high)/ 2\n",
        "  while abs(guess**2 -num) >= epsilon:\n",
        "    if guess**2 < num:\n",
        "      low= guess\n",
        "    else:\n",
        "      high= guess\n",
        "    guess= (low+ high)/2\n",
        "  return guess\n",
        "\n",
        "# Now write a for loop to compute the square root of all the numbers within the range of the input n\n",
        "for i in range(1, n+1):\n",
        "  print(f\"The square root of {i} is {square_root(i)}\")\n"
      ],
      "metadata": {
        "colab": {
          "base_uri": "https://localhost:8080/"
        },
        "id": "z_ntuZJI_XDh",
        "outputId": "fed9767f-ee67-4ca2-9163-fd1cc3fc7d43"
      },
      "execution_count": 15,
      "outputs": [
        {
          "output_type": "stream",
          "name": "stdout",
          "text": [
            "Enter input size: 10\n",
            "The square root of 1 is 0.99951171875\n",
            "The square root of 2 is 1.4140625\n",
            "The square root of 3 is 1.732177734375\n",
            "The square root of 4 is 2.0\n",
            "The square root of 5 is 2.23602294921875\n",
            "The square root of 6 is 2.4495849609375\n",
            "The square root of 7 is 2.64593505859375\n",
            "The square root of 8 is 2.828369140625\n",
            "The square root of 9 is 3.000091552734375\n",
            "The square root of 10 is 3.1622314453125\n"
          ]
        }
      ]
    },
    {
      "cell_type": "markdown",
      "source": [
        "O(n^2): An example of this is the nested for loop"
      ],
      "metadata": {
        "id": "5JYfuQ2dBmQL"
      }
    },
    {
      "cell_type": "code",
      "source": [
        "# The code below computes the multiplication table of a range of values x by x\n",
        "n= int(input(\"Enter the range of your multiplication table: \"))\n",
        "\n",
        "for i in range(1, n+1):\n",
        "  print(f\"Multiplication table for {i}\")\n",
        "  print()\n",
        "  for j in range (1, n+1):\n",
        "    print(f\"{i} x {j} = {i*j}\")\n",
        "  print()\n"
      ],
      "metadata": {
        "id": "ONCcCr-mBX1p"
      },
      "execution_count": null,
      "outputs": []
    },
    {
      "cell_type": "markdown",
      "source": [
        "O(n^k)"
      ],
      "metadata": {
        "id": "15tDfnlMD7cN"
      }
    },
    {
      "cell_type": "code",
      "source": [
        "# The code below computes the multiplication table of a range of values x by x\n",
        "n= int(input(\"Enter the range of your multiplication table: \"))\n",
        "k= int(input(\"Enter the value of k: \"))\n",
        "for i in range(1, n+1):\n",
        "  print(f\"Multiplication table for {i}\")\n",
        "  print()\n",
        "  for j in range (1, k+1):\n",
        "    print(f\"{i} x {j} = {i*j}\")\n",
        "  print()\n"
      ],
      "metadata": {
        "colab": {
          "base_uri": "https://localhost:8080/"
        },
        "id": "wROGKzylDzCW",
        "outputId": "da9eced1-ac90-4c30-967c-f2d633efb554"
      },
      "execution_count": 17,
      "outputs": [
        {
          "output_type": "stream",
          "name": "stdout",
          "text": [
            "Enter the range of your multiplication table: 10\n",
            "Enter the value of k: 12\n",
            "Multiplication table for 1\n",
            "\n",
            "1 x 1 = 1\n",
            "1 x 2 = 2\n",
            "1 x 3 = 3\n",
            "1 x 4 = 4\n",
            "1 x 5 = 5\n",
            "1 x 6 = 6\n",
            "1 x 7 = 7\n",
            "1 x 8 = 8\n",
            "1 x 9 = 9\n",
            "1 x 10 = 10\n",
            "1 x 11 = 11\n",
            "1 x 12 = 12\n",
            "\n",
            "Multiplication table for 2\n",
            "\n",
            "2 x 1 = 2\n",
            "2 x 2 = 4\n",
            "2 x 3 = 6\n",
            "2 x 4 = 8\n",
            "2 x 5 = 10\n",
            "2 x 6 = 12\n",
            "2 x 7 = 14\n",
            "2 x 8 = 16\n",
            "2 x 9 = 18\n",
            "2 x 10 = 20\n",
            "2 x 11 = 22\n",
            "2 x 12 = 24\n",
            "\n",
            "Multiplication table for 3\n",
            "\n",
            "3 x 1 = 3\n",
            "3 x 2 = 6\n",
            "3 x 3 = 9\n",
            "3 x 4 = 12\n",
            "3 x 5 = 15\n",
            "3 x 6 = 18\n",
            "3 x 7 = 21\n",
            "3 x 8 = 24\n",
            "3 x 9 = 27\n",
            "3 x 10 = 30\n",
            "3 x 11 = 33\n",
            "3 x 12 = 36\n",
            "\n",
            "Multiplication table for 4\n",
            "\n",
            "4 x 1 = 4\n",
            "4 x 2 = 8\n",
            "4 x 3 = 12\n",
            "4 x 4 = 16\n",
            "4 x 5 = 20\n",
            "4 x 6 = 24\n",
            "4 x 7 = 28\n",
            "4 x 8 = 32\n",
            "4 x 9 = 36\n",
            "4 x 10 = 40\n",
            "4 x 11 = 44\n",
            "4 x 12 = 48\n",
            "\n",
            "Multiplication table for 5\n",
            "\n",
            "5 x 1 = 5\n",
            "5 x 2 = 10\n",
            "5 x 3 = 15\n",
            "5 x 4 = 20\n",
            "5 x 5 = 25\n",
            "5 x 6 = 30\n",
            "5 x 7 = 35\n",
            "5 x 8 = 40\n",
            "5 x 9 = 45\n",
            "5 x 10 = 50\n",
            "5 x 11 = 55\n",
            "5 x 12 = 60\n",
            "\n",
            "Multiplication table for 6\n",
            "\n",
            "6 x 1 = 6\n",
            "6 x 2 = 12\n",
            "6 x 3 = 18\n",
            "6 x 4 = 24\n",
            "6 x 5 = 30\n",
            "6 x 6 = 36\n",
            "6 x 7 = 42\n",
            "6 x 8 = 48\n",
            "6 x 9 = 54\n",
            "6 x 10 = 60\n",
            "6 x 11 = 66\n",
            "6 x 12 = 72\n",
            "\n",
            "Multiplication table for 7\n",
            "\n",
            "7 x 1 = 7\n",
            "7 x 2 = 14\n",
            "7 x 3 = 21\n",
            "7 x 4 = 28\n",
            "7 x 5 = 35\n",
            "7 x 6 = 42\n",
            "7 x 7 = 49\n",
            "7 x 8 = 56\n",
            "7 x 9 = 63\n",
            "7 x 10 = 70\n",
            "7 x 11 = 77\n",
            "7 x 12 = 84\n",
            "\n",
            "Multiplication table for 8\n",
            "\n",
            "8 x 1 = 8\n",
            "8 x 2 = 16\n",
            "8 x 3 = 24\n",
            "8 x 4 = 32\n",
            "8 x 5 = 40\n",
            "8 x 6 = 48\n",
            "8 x 7 = 56\n",
            "8 x 8 = 64\n",
            "8 x 9 = 72\n",
            "8 x 10 = 80\n",
            "8 x 11 = 88\n",
            "8 x 12 = 96\n",
            "\n",
            "Multiplication table for 9\n",
            "\n",
            "9 x 1 = 9\n",
            "9 x 2 = 18\n",
            "9 x 3 = 27\n",
            "9 x 4 = 36\n",
            "9 x 5 = 45\n",
            "9 x 6 = 54\n",
            "9 x 7 = 63\n",
            "9 x 8 = 72\n",
            "9 x 9 = 81\n",
            "9 x 10 = 90\n",
            "9 x 11 = 99\n",
            "9 x 12 = 108\n",
            "\n",
            "Multiplication table for 10\n",
            "\n",
            "10 x 1 = 10\n",
            "10 x 2 = 20\n",
            "10 x 3 = 30\n",
            "10 x 4 = 40\n",
            "10 x 5 = 50\n",
            "10 x 6 = 60\n",
            "10 x 7 = 70\n",
            "10 x 8 = 80\n",
            "10 x 9 = 90\n",
            "10 x 10 = 100\n",
            "10 x 11 = 110\n",
            "10 x 12 = 120\n",
            "\n"
          ]
        }
      ]
    },
    {
      "cell_type": "code",
      "source": [],
      "metadata": {
        "id": "dN0DbyZWELqm"
      },
      "execution_count": null,
      "outputs": []
    }
  ]
}